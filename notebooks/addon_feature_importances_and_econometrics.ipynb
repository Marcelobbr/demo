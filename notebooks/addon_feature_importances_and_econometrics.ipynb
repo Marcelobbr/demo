{
 "cells": [
  {
   "cell_type": "code",
   "execution_count": 29,
   "metadata": {},
   "outputs": [],
   "source": [
    "import os\n",
    "import sys\n",
    "import warnings\n",
    "from datetime import datetime\n",
    "\n",
    "import json\n",
    "import math\n",
    "import matplotlib.pyplot as plt\n",
    "import numpy as np\n",
    "import pandas as pd\n",
    "import pickle\n",
    "import seaborn as sns\n",
    "import statsmodels.api as sm\n",
    "import statistics\n",
    "from pprint import pprint\n",
    "\n",
    "%matplotlib inline\n",
    "warnings.filterwarnings('ignore')"
   ]
  },
  {
   "cell_type": "code",
   "execution_count": 30,
   "metadata": {},
   "outputs": [],
   "source": [
    "sys.path.append(os.path.join('..', 'src'))"
   ]
  },
  {
   "cell_type": "code",
   "execution_count": 31,
   "metadata": {},
   "outputs": [],
   "source": [
    "# sys.path.append(os.path.join('..', 'src'))\n",
    "# sys.path.append(os.path.join('..', 'src', 'c04model'))\n",
    "\n",
    "import utils\n",
    "import importlib\n",
    "importlib.reload(utils)\n",
    "# importlib.reload(model)\n",
    "\n",
    "from model import plot_scores\n",
    "from model import timer, measure_prediction_time, apply_ml_model, save_model_parameters, save_model_metrics"
   ]
  },
  {
   "cell_type": "code",
   "execution_count": 32,
   "metadata": {},
   "outputs": [],
   "source": [
    "inputs = os.path.join('..', 'data', '03_processed')\n",
    "outputs = os.path.join('..', 'data', '03_processed')\n",
    "models_reports = os.path.join('..', 'data', '04_models')\n",
    "model_outputs = os.path.join('..', 'data', '05_model_output')\n",
    "reports = os.path.join('..', 'data', '06_reporting')"
   ]
  },
  {
   "cell_type": "markdown",
   "metadata": {},
   "source": [
    "# Data capture"
   ]
  },
  {
   "cell_type": "code",
   "execution_count": 33,
   "metadata": {},
   "outputs": [],
   "source": [
    "def capture_data(file, label=False):\n",
    "    path = os.path.join(inputs, file+'.csv')\n",
    "    return pd.read_csv(path, index_col='id')"
   ]
  },
  {
   "cell_type": "code",
   "execution_count": 34,
   "metadata": {},
   "outputs": [],
   "source": [
    "X_train                  = capture_data('X_train')\n",
    "X_test                   = capture_data('X_test')\n",
    "X_train_oh               = capture_data('X_train_oh')\n",
    "X_test_oh                = capture_data('X_test_oh')\n",
    "\n",
    "y_train                  = capture_data('y_train', label=True)\n",
    "y_test                   = capture_data('y_test', label=True)"
   ]
  },
  {
   "cell_type": "markdown",
   "metadata": {},
   "source": [
    "# Corroboração das features escolhidas\n",
    "Podemos acrescentar diferentes formas de fazer a seleção.\n",
    "* Correlação de Pearson\n",
    "* Eliminação Recursiva de Features (RFE)\n",
    "* Lasso"
   ]
  },
  {
   "cell_type": "code",
   "execution_count": 35,
   "metadata": {},
   "outputs": [],
   "source": [
    "from sklearn.preprocessing import MinMaxScaler"
   ]
  },
  {
   "cell_type": "code",
   "execution_count": 36,
   "metadata": {},
   "outputs": [],
   "source": [
    "feature_names_oh = X_train_oh.columns.to_list()\n",
    "feature_names_ord = X_train.columns.to_list()"
   ]
  },
  {
   "cell_type": "code",
   "execution_count": 37,
   "metadata": {},
   "outputs": [],
   "source": [
    "num_features = 5"
   ]
  },
  {
   "cell_type": "code",
   "execution_count": 38,
   "metadata": {},
   "outputs": [],
   "source": [
    "X_oh_norm = MinMaxScaler().fit_transform(X_train_oh)\n",
    "X_oh_norm = pd.DataFrame(X_oh_norm, columns = feature_names_oh)\n",
    "\n",
    "X_ord_norm = MinMaxScaler().fit_transform(X_train)\n",
    "X_ord_norm = pd.DataFrame(X_ord_norm, columns = feature_names_ord)"
   ]
  },
  {
   "cell_type": "markdown",
   "metadata": {},
   "source": [
    "## Correlação de Pearson"
   ]
  },
  {
   "cell_type": "code",
   "execution_count": 39,
   "metadata": {},
   "outputs": [],
   "source": [
    "def cor_selector(X, y, num_feats):\n",
    "    cor_list = []\n",
    "    feature_name = X.columns.tolist()\n",
    "    # calcula as correlaçoes com y para cada variável\n",
    "    for i in X.columns.tolist():\n",
    "        cor = np.corrcoef(X[i], y)[0, 1]\n",
    "        cor_list.append(cor)\n",
    "    # substitui NaN por 0 onde houver\n",
    "    cor_list = [0 if np.isnan(i) else i for i in cor_list]\n",
    "    # feature name\n",
    "    cor_feature = X.iloc[:,np.argsort(np.abs(cor_list))[-num_feats:]].columns.tolist()\n",
    "    # feature selection? 0 for not select, 1 for select\n",
    "    cor_mask = [True if i in cor_feature else False for i in feature_name]\n",
    "    return cor_feature"
   ]
  },
  {
   "cell_type": "code",
   "execution_count": 40,
   "metadata": {},
   "outputs": [
    {
     "name": "stdout",
     "output_type": "stream",
     "text": [
      "Seleção de 5 variáveis\n",
      "Seleção de 5 variáveis\n"
     ]
    }
   ],
   "source": [
    "cor_dict = {'oh':{}, 'ord':{}}\n",
    "\n",
    "for k,df in zip(['oh', 'ord'], [X_oh_norm, X_ord_norm]):\n",
    "    print('Seleção de', num_features, 'variáveis')\n",
    "    cor_dict[k]['features'] = cor_selector(X_train_oh, y_train.y, num_features)"
   ]
  },
  {
   "cell_type": "code",
   "execution_count": 41,
   "metadata": {},
   "outputs": [
    {
     "data": {
      "text/plain": [
       "{'oh': {'features': ['dummy_relationship_Own_child',\n",
       "   'age',\n",
       "   'dummy_marital_status_Never_married',\n",
       "   'education_num',\n",
       "   'dummy_marital_status_Married_civ_spouse']},\n",
       " 'ord': {'features': ['dummy_relationship_Own_child',\n",
       "   'age',\n",
       "   'dummy_marital_status_Never_married',\n",
       "   'education_num',\n",
       "   'dummy_marital_status_Married_civ_spouse']}}"
      ]
     },
     "execution_count": 41,
     "metadata": {},
     "output_type": "execute_result"
    }
   ],
   "source": [
    "cor_dict"
   ]
  },
  {
   "cell_type": "markdown",
   "metadata": {},
   "source": [
    "## Lasso (regularização L1)\n",
    "Usando Lasso em regressão logística. Lasso força que algumas features sejam reponderadas para zero, sendo perfeito para feature selection, diferentemente de Ridge, que não repondera para zero.\n",
    "\n",
    "Nesse caso, os dados adequados são os provenientes de One-Hot Encoding."
   ]
  },
  {
   "cell_type": "code",
   "execution_count": 42,
   "metadata": {},
   "outputs": [],
   "source": [
    "from sklearn.feature_selection import SelectFromModel\n",
    "from sklearn.linear_model import LinearRegression\n",
    "from sklearn.linear_model import LogisticRegression"
   ]
  },
  {
   "cell_type": "code",
   "execution_count": 43,
   "metadata": {},
   "outputs": [],
   "source": [
    "def lr_selector(X, y, num_feats):\n",
    "    embeded_lr_selector = SelectFromModel(LogisticRegression(penalty=\"l1\", solver='liblinear'), max_features=num_features)\n",
    "    embeded_lr_selector.fit(X_ord_norm, y)\n",
    "\n",
    "    support = embeded_lr_selector.get_support()\n",
    "    feature = X_ord_norm.loc[:,support].columns.tolist()\n",
    "    print(str(len(feature)), 'selected features')\n",
    "    return feature"
   ]
  },
  {
   "cell_type": "code",
   "execution_count": 44,
   "metadata": {},
   "outputs": [
    {
     "name": "stdout",
     "output_type": "stream",
     "text": [
      "Base usada: X_oh_norm\n",
      "5 selected features\n"
     ]
    }
   ],
   "source": [
    "lr_dict = {'oh':{}, 'ord':{}}\n",
    "\n",
    "# print('Seleção de', num_features, 'variáveis')\n",
    "key_str = 'oh'\n",
    "df_str = 'X_'+key_str+'_norm'\n",
    "print('Base usada:', df_str)\n",
    "lr_dict[key_str]['features'] = lr_selector(eval(df_str), y_train, num_features)"
   ]
  },
  {
   "cell_type": "code",
   "execution_count": 45,
   "metadata": {},
   "outputs": [
    {
     "data": {
      "text/plain": [
       "{'oh': {'features': ['age',\n",
       "   'education_num',\n",
       "   'marital_status',\n",
       "   'capital_gain',\n",
       "   'hours_per_week']},\n",
       " 'ord': {}}"
      ]
     },
     "execution_count": 45,
     "metadata": {},
     "output_type": "execute_result"
    }
   ],
   "source": [
    "lr_dict"
   ]
  },
  {
   "cell_type": "markdown",
   "metadata": {},
   "source": [
    "### Compara todos os resultados\n",
    "Aqui comparamos todos os resultados, mas ainda será necessário comparar com o modelo final de Machine Learning. Vamos deixar as considerações mais para frente, mas aqui já criamos a tabela de comparações."
   ]
  },
  {
   "cell_type": "code",
   "execution_count": 46,
   "metadata": {},
   "outputs": [
    {
     "name": "stdout",
     "output_type": "stream",
     "text": [
      "['age', 'hours_per_week', 'dummy_marital_status_Married_civ_spouse', 'capital_gain', 'dummy_relationship_Own_child', 'dummy_marital_status_Never_married', 'education_num', 'marital_status']\n"
     ]
    }
   ],
   "source": [
    "selected_features = list(cor_dict['oh']['features'])\n",
    "# lr_dict\n",
    "selected_features.extend(lr_dict['oh']['features'])\n",
    "selected_features = list(set(selected_features))\n",
    "print(selected_features)"
   ]
  },
  {
   "cell_type": "code",
   "execution_count": 47,
   "metadata": {},
   "outputs": [],
   "source": [
    "cor_mask = [True if i in cor_dict['oh']['features'] else False for i in selected_features]\n",
    "lr_mask = [True if i in lr_dict['oh']['features'] else False for i in selected_features]"
   ]
  },
  {
   "cell_type": "code",
   "execution_count": 48,
   "metadata": {},
   "outputs": [
    {
     "data": {
      "text/html": [
       "<div>\n",
       "<style scoped>\n",
       "    .dataframe tbody tr th:only-of-type {\n",
       "        vertical-align: middle;\n",
       "    }\n",
       "\n",
       "    .dataframe tbody tr th {\n",
       "        vertical-align: top;\n",
       "    }\n",
       "\n",
       "    .dataframe thead th {\n",
       "        text-align: right;\n",
       "    }\n",
       "</style>\n",
       "<table border=\"1\" class=\"dataframe\">\n",
       "  <thead>\n",
       "    <tr style=\"text-align: right;\">\n",
       "      <th></th>\n",
       "      <th>Feature</th>\n",
       "      <th>Pearson</th>\n",
       "      <th>lasso</th>\n",
       "      <th>Total</th>\n",
       "    </tr>\n",
       "  </thead>\n",
       "  <tbody>\n",
       "    <tr>\n",
       "      <th>1</th>\n",
       "      <td>education_num</td>\n",
       "      <td>True</td>\n",
       "      <td>True</td>\n",
       "      <td>2</td>\n",
       "    </tr>\n",
       "    <tr>\n",
       "      <th>2</th>\n",
       "      <td>age</td>\n",
       "      <td>True</td>\n",
       "      <td>True</td>\n",
       "      <td>2</td>\n",
       "    </tr>\n",
       "    <tr>\n",
       "      <th>3</th>\n",
       "      <td>marital_status</td>\n",
       "      <td>False</td>\n",
       "      <td>True</td>\n",
       "      <td>1</td>\n",
       "    </tr>\n",
       "    <tr>\n",
       "      <th>4</th>\n",
       "      <td>hours_per_week</td>\n",
       "      <td>False</td>\n",
       "      <td>True</td>\n",
       "      <td>1</td>\n",
       "    </tr>\n",
       "    <tr>\n",
       "      <th>5</th>\n",
       "      <td>dummy_relationship_Own_child</td>\n",
       "      <td>True</td>\n",
       "      <td>False</td>\n",
       "      <td>1</td>\n",
       "    </tr>\n",
       "    <tr>\n",
       "      <th>6</th>\n",
       "      <td>dummy_marital_status_Never_married</td>\n",
       "      <td>True</td>\n",
       "      <td>False</td>\n",
       "      <td>1</td>\n",
       "    </tr>\n",
       "    <tr>\n",
       "      <th>7</th>\n",
       "      <td>dummy_marital_status_Married_civ_spouse</td>\n",
       "      <td>True</td>\n",
       "      <td>False</td>\n",
       "      <td>1</td>\n",
       "    </tr>\n",
       "    <tr>\n",
       "      <th>8</th>\n",
       "      <td>capital_gain</td>\n",
       "      <td>False</td>\n",
       "      <td>True</td>\n",
       "      <td>1</td>\n",
       "    </tr>\n",
       "  </tbody>\n",
       "</table>\n",
       "</div>"
      ],
      "text/plain": [
       "                                   Feature  Pearson  lasso  Total\n",
       "1                            education_num     True   True      2\n",
       "2                                      age     True   True      2\n",
       "3                           marital_status    False   True      1\n",
       "4                           hours_per_week    False   True      1\n",
       "5             dummy_relationship_Own_child     True  False      1\n",
       "6       dummy_marital_status_Never_married     True  False      1\n",
       "7  dummy_marital_status_Married_civ_spouse     True  False      1\n",
       "8                             capital_gain    False   True      1"
      ]
     },
     "execution_count": 48,
     "metadata": {},
     "output_type": "execute_result"
    }
   ],
   "source": [
    "\n",
    "feature_selection_df = pd.DataFrame({'Feature':selected_features, 'Pearson':cor_mask, 'lasso':lr_mask})\n",
    "\n",
    "# count the selected times for each feature\n",
    "feature_selection_df['Total'] = np.sum(feature_selection_df, axis=1)\n",
    "\n",
    "# display the top ones\n",
    "feature_selection_df = feature_selection_df.sort_values(['Total','Feature'] , ascending=False)\n",
    "feature_selection_df.index = range(1, len(feature_selection_df)+1)\n",
    "feature_selection_df"
   ]
  },
  {
   "cell_type": "markdown",
   "metadata": {},
   "source": [
    "# Using ML model"
   ]
  },
  {
   "cell_type": "code",
   "execution_count": 49,
   "metadata": {},
   "outputs": [],
   "source": [
    "result_file = os.path.join(model_outputs, 'trained_model.pkl')\n",
    "with open(result_file, 'rb') as f:\n",
    "    clf_rf_validated = pickle.load(f) "
   ]
  },
  {
   "cell_type": "code",
   "execution_count": 50,
   "metadata": {},
   "outputs": [],
   "source": [
    "names = X_test.columns.to_list()\n",
    "importances = clf_rf_validated.feature_importances_"
   ]
  },
  {
   "cell_type": "code",
   "execution_count": 51,
   "metadata": {},
   "outputs": [],
   "source": [
    "df_importances = pd.DataFrame.from_dict({names[i]: importances[i] for i in range(len(names))}, orient='index', columns=['importance'])\n",
    "df_importances.sort_values(by='importance', ascending=False, inplace=True)\n",
    "df_importances.reset_index(inplace=True)"
   ]
  },
  {
   "cell_type": "code",
   "execution_count": 52,
   "metadata": {},
   "outputs": [],
   "source": [
    "def check_in_selector(var, f_selector, fs_df):\n",
    "    check = fs_df[fs_df['Feature'] == var][f_selector].to_list()\n",
    "    if check and check[0] == True:\n",
    "        return True\n",
    "    else: return False"
   ]
  },
  {
   "cell_type": "code",
   "execution_count": 53,
   "metadata": {
    "scrolled": true
   },
   "outputs": [
    {
     "data": {
      "text/html": [
       "<div>\n",
       "<style scoped>\n",
       "    .dataframe tbody tr th:only-of-type {\n",
       "        vertical-align: middle;\n",
       "    }\n",
       "\n",
       "    .dataframe tbody tr th {\n",
       "        vertical-align: top;\n",
       "    }\n",
       "\n",
       "    .dataframe thead th {\n",
       "        text-align: right;\n",
       "    }\n",
       "</style>\n",
       "<table border=\"1\" class=\"dataframe\">\n",
       "  <thead>\n",
       "    <tr style=\"text-align: right;\">\n",
       "      <th></th>\n",
       "      <th>index</th>\n",
       "      <th>importance</th>\n",
       "      <th>Pearson</th>\n",
       "      <th>lasso</th>\n",
       "    </tr>\n",
       "  </thead>\n",
       "  <tbody>\n",
       "    <tr>\n",
       "      <th>0</th>\n",
       "      <td>age</td>\n",
       "      <td>0.213695</td>\n",
       "      <td>True</td>\n",
       "      <td>True</td>\n",
       "    </tr>\n",
       "    <tr>\n",
       "      <th>1</th>\n",
       "      <td>capital_gain</td>\n",
       "      <td>0.120140</td>\n",
       "      <td>False</td>\n",
       "      <td>True</td>\n",
       "    </tr>\n",
       "    <tr>\n",
       "      <th>2</th>\n",
       "      <td>hours_per_week</td>\n",
       "      <td>0.107835</td>\n",
       "      <td>False</td>\n",
       "      <td>True</td>\n",
       "    </tr>\n",
       "    <tr>\n",
       "      <th>3</th>\n",
       "      <td>marital_status</td>\n",
       "      <td>0.107098</td>\n",
       "      <td>False</td>\n",
       "      <td>True</td>\n",
       "    </tr>\n",
       "    <tr>\n",
       "      <th>4</th>\n",
       "      <td>relationship</td>\n",
       "      <td>0.092552</td>\n",
       "      <td>False</td>\n",
       "      <td>False</td>\n",
       "    </tr>\n",
       "    <tr>\n",
       "      <th>5</th>\n",
       "      <td>occupation</td>\n",
       "      <td>0.092524</td>\n",
       "      <td>False</td>\n",
       "      <td>False</td>\n",
       "    </tr>\n",
       "    <tr>\n",
       "      <th>6</th>\n",
       "      <td>education_num</td>\n",
       "      <td>0.086789</td>\n",
       "      <td>True</td>\n",
       "      <td>True</td>\n",
       "    </tr>\n",
       "  </tbody>\n",
       "</table>\n",
       "</div>"
      ],
      "text/plain": [
       "            index  importance  Pearson  lasso\n",
       "0             age    0.213695     True   True\n",
       "1    capital_gain    0.120140    False   True\n",
       "2  hours_per_week    0.107835    False   True\n",
       "3  marital_status    0.107098    False   True\n",
       "4    relationship    0.092552    False  False\n",
       "5      occupation    0.092524    False  False\n",
       "6   education_num    0.086789     True   True"
      ]
     },
     "execution_count": 53,
     "metadata": {},
     "output_type": "execute_result"
    }
   ],
   "source": [
    "for selector in ['Pearson', 'lasso']:\n",
    "    df_importances[selector] = df_importances['index'].apply(lambda x: check_in_selector(x, selector, feature_selection_df))\n",
    "df_importances.head(7)"
   ]
  },
  {
   "cell_type": "markdown",
   "metadata": {},
   "source": [
    "# Econometrics (with statsmodels) (incomplete section!!!)\n",
    "Using statsmodels to analyse direct influence of each feature."
   ]
  },
  {
   "cell_type": "code",
   "execution_count": 54,
   "metadata": {},
   "outputs": [],
   "source": [
    "import statsmodels.api as sm\n",
    "from statsmodels.formula.api import ols"
   ]
  },
  {
   "cell_type": "code",
   "execution_count": 55,
   "metadata": {},
   "outputs": [],
   "source": [
    "data = X_train.copy()\n",
    "data['y'] = y_train"
   ]
  },
  {
   "cell_type": "code",
   "execution_count": 56,
   "metadata": {},
   "outputs": [
    {
     "data": {
      "text/html": [
       "<table class=\"simpletable\">\n",
       "<caption>OLS Regression Results</caption>\n",
       "<tr>\n",
       "  <th>Dep. Variable:</th>            <td>y</td>        <th>  R-squared:         </th> <td>   0.050</td> \n",
       "</tr>\n",
       "<tr>\n",
       "  <th>Model:</th>                   <td>OLS</td>       <th>  Adj. R-squared:    </th> <td>   0.050</td> \n",
       "</tr>\n",
       "<tr>\n",
       "  <th>Method:</th>             <td>Least Squares</td>  <th>  F-statistic:       </th> <td>   1208.</td> \n",
       "</tr>\n",
       "<tr>\n",
       "  <th>Date:</th>             <td>Fri, 21 May 2021</td> <th>  Prob (F-statistic):</th> <td>5.13e-258</td>\n",
       "</tr>\n",
       "<tr>\n",
       "  <th>Time:</th>                 <td>03:45:52</td>     <th>  Log-Likelihood:    </th> <td> -12388.</td> \n",
       "</tr>\n",
       "<tr>\n",
       "  <th>No. Observations:</th>      <td> 22792</td>      <th>  AIC:               </th> <td>2.478e+04</td>\n",
       "</tr>\n",
       "<tr>\n",
       "  <th>Df Residuals:</th>          <td> 22790</td>      <th>  BIC:               </th> <td>2.480e+04</td>\n",
       "</tr>\n",
       "<tr>\n",
       "  <th>Df Model:</th>              <td>     1</td>      <th>                     </th>     <td> </td>    \n",
       "</tr>\n",
       "<tr>\n",
       "  <th>Covariance Type:</th>      <td>nonrobust</td>    <th>                     </th>     <td> </td>    \n",
       "</tr>\n",
       "</table>\n",
       "<table class=\"simpletable\">\n",
       "<tr>\n",
       "        <td></td>          <th>coef</th>     <th>std err</th>      <th>t</th>      <th>P>|t|</th>  <th>[0.025</th>    <th>0.975]</th>  \n",
       "</tr>\n",
       "<tr>\n",
       "  <th>Intercept</th>    <td>    0.2268</td> <td>    0.003</td> <td>   81.313</td> <td> 0.000</td> <td>    0.221</td> <td>    0.232</td>\n",
       "</tr>\n",
       "<tr>\n",
       "  <th>capital_gain</th> <td> 1.317e-05</td> <td> 3.79e-07</td> <td>   34.761</td> <td> 0.000</td> <td> 1.24e-05</td> <td> 1.39e-05</td>\n",
       "</tr>\n",
       "</table>\n",
       "<table class=\"simpletable\">\n",
       "<tr>\n",
       "  <th>Omnibus:</th>       <td>3940.365</td> <th>  Durbin-Watson:     </th> <td>   1.982</td>\n",
       "</tr>\n",
       "<tr>\n",
       "  <th>Prob(Omnibus):</th>  <td> 0.000</td>  <th>  Jarque-Bera (JB):  </th> <td>6037.252</td>\n",
       "</tr>\n",
       "<tr>\n",
       "  <th>Skew:</th>           <td> 1.245</td>  <th>  Prob(JB):          </th> <td>    0.00</td>\n",
       "</tr>\n",
       "<tr>\n",
       "  <th>Kurtosis:</th>       <td> 2.601</td>  <th>  Cond. No.          </th> <td>7.44e+03</td>\n",
       "</tr>\n",
       "</table><br/><br/>Warnings:<br/>[1] Standard Errors assume that the covariance matrix of the errors is correctly specified.<br/>[2] The condition number is large, 7.44e+03. This might indicate that there are<br/>strong multicollinearity or other numerical problems."
      ],
      "text/plain": [
       "<class 'statsmodels.iolib.summary.Summary'>\n",
       "\"\"\"\n",
       "                            OLS Regression Results                            \n",
       "==============================================================================\n",
       "Dep. Variable:                      y   R-squared:                       0.050\n",
       "Model:                            OLS   Adj. R-squared:                  0.050\n",
       "Method:                 Least Squares   F-statistic:                     1208.\n",
       "Date:                Fri, 21 May 2021   Prob (F-statistic):          5.13e-258\n",
       "Time:                        03:45:52   Log-Likelihood:                -12388.\n",
       "No. Observations:               22792   AIC:                         2.478e+04\n",
       "Df Residuals:                   22790   BIC:                         2.480e+04\n",
       "Df Model:                           1                                         \n",
       "Covariance Type:            nonrobust                                         \n",
       "================================================================================\n",
       "                   coef    std err          t      P>|t|      [0.025      0.975]\n",
       "--------------------------------------------------------------------------------\n",
       "Intercept        0.2268      0.003     81.313      0.000       0.221       0.232\n",
       "capital_gain  1.317e-05   3.79e-07     34.761      0.000    1.24e-05    1.39e-05\n",
       "==============================================================================\n",
       "Omnibus:                     3940.365   Durbin-Watson:                   1.982\n",
       "Prob(Omnibus):                  0.000   Jarque-Bera (JB):             6037.252\n",
       "Skew:                           1.245   Prob(JB):                         0.00\n",
       "Kurtosis:                       2.601   Cond. No.                     7.44e+03\n",
       "==============================================================================\n",
       "\n",
       "Warnings:\n",
       "[1] Standard Errors assume that the covariance matrix of the errors is correctly specified.\n",
       "[2] The condition number is large, 7.44e+03. This might indicate that there are\n",
       "strong multicollinearity or other numerical problems.\n",
       "\"\"\""
      ]
     },
     "execution_count": 56,
     "metadata": {},
     "output_type": "execute_result"
    }
   ],
   "source": [
    "sm_model = ols(\"y ~ capital_gain\", data=data).fit()\n",
    "sm_model_summary = sm_model.summary()\n",
    "sm_model_summary"
   ]
  },
  {
   "cell_type": "code",
   "execution_count": null,
   "metadata": {},
   "outputs": [],
   "source": []
  }
 ],
 "metadata": {
  "kernelspec": {
   "display_name": "Python 3",
   "language": "python",
   "name": "python3"
  },
  "language_info": {
   "codemirror_mode": {
    "name": "ipython",
    "version": 3
   },
   "file_extension": ".py",
   "mimetype": "text/x-python",
   "name": "python",
   "nbconvert_exporter": "python",
   "pygments_lexer": "ipython3",
   "version": "3.7.5"
  }
 },
 "nbformat": 4,
 "nbformat_minor": 2
}
