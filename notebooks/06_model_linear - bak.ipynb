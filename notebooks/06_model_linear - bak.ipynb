{
 "cells": [
  {
   "cell_type": "code",
   "execution_count": 4,
   "metadata": {},
   "outputs": [],
   "source": [
    "import json\n",
    "import os\n",
    "import sys\n",
    "import warnings\n",
    "\n",
    "import numpy as np\n",
    "import pandas as pd\n",
    "from datetime import datetime\n",
    "from pprint import pprint\n",
    "from sklearn.preprocessing import StandardScaler\n",
    "from sklearn.impute import SimpleImputer as Imputer\n",
    "from sklearn.pipeline import Pipeline\n",
    "from sklearn.model_selection import GridSearchCV\n",
    "\n",
    "warnings.filterwarnings('ignore')"
   ]
  },
  {
   "cell_type": "code",
   "execution_count": 5,
   "metadata": {},
   "outputs": [],
   "source": [
    "sys.path.append(os.path.join('..', 'src'))"
   ]
  },
  {
   "cell_type": "code",
   "execution_count": 6,
   "metadata": {},
   "outputs": [],
   "source": [
    "import importlib\n",
    "import utils, model\n",
    "importlib.reload(utils)\n",
    "importlib.reload(model)\n",
    "\n",
    "from utils import capture_data, build_data_dict\n",
    "from model import timer, measure_prediction_time, apply_ml_model, save_model_parameters, save_model_metrics\n",
    "from model import get_folders\n",
    "\n",
    "import params\n",
    "importlib.reload(params)\n",
    "from params import ProjectParameters"
   ]
  },
  {
   "cell_type": "markdown",
   "metadata": {},
   "source": [
    "# set model parameters and capture data"
   ]
  },
  {
   "cell_type": "code",
   "execution_count": 7,
   "metadata": {},
   "outputs": [
    {
     "name": "stdout",
     "output_type": "stream",
     "text": [
      "SELECTED TARGET AND SCORING ARE: binary , accuracy\n",
      "loading data into dictionary\n",
      "(32534, 13)\n",
      "(32534, 96)\n",
      "(32534, 88)\n",
      "(32534, 1)\n"
     ]
    }
   ],
   "source": [
    "target_type = ProjectParameters().target_type\n",
    "scoring = ProjectParameters().scoring\n",
    "print('SELECTED TARGET AND SCORING ARE:', target_type, ',', scoring)\n",
    "\n",
    "inputs, models_reports, model_outputs, reports = get_folders()\n",
    "\n",
    "data_list = ['X_train', 'X_train_oh', 'X_train_oh_nocol', 'y_train']\n",
    "dfs_dict = build_data_dict(inputs, data_list)\n",
    "\n",
    "for df in data_list:\n",
    "    print(dfs_dict[df].shape)"
   ]
  },
  {
   "cell_type": "code",
   "execution_count": 8,
   "metadata": {},
   "outputs": [],
   "source": [
    "dfs_dict['y_train'] = dfs_dict['y_train']['y'].to_list()"
   ]
  },
  {
   "cell_type": "code",
   "execution_count": 9,
   "metadata": {},
   "outputs": [
    {
     "data": {
      "text/html": [
       "<div>\n",
       "<style scoped>\n",
       "    .dataframe tbody tr th:only-of-type {\n",
       "        vertical-align: middle;\n",
       "    }\n",
       "\n",
       "    .dataframe tbody tr th {\n",
       "        vertical-align: top;\n",
       "    }\n",
       "\n",
       "    .dataframe thead th {\n",
       "        text-align: right;\n",
       "    }\n",
       "</style>\n",
       "<table border=\"1\" class=\"dataframe\">\n",
       "  <thead>\n",
       "    <tr style=\"text-align: right;\">\n",
       "      <th></th>\n",
       "      <th>age</th>\n",
       "      <th>workclass</th>\n",
       "      <th>education</th>\n",
       "      <th>education_num</th>\n",
       "      <th>marital_status</th>\n",
       "      <th>occupation</th>\n",
       "      <th>relationship</th>\n",
       "      <th>race</th>\n",
       "      <th>sex</th>\n",
       "      <th>capital_gain</th>\n",
       "      <th>capital_loss</th>\n",
       "      <th>hours_per_week</th>\n",
       "      <th>native_country</th>\n",
       "    </tr>\n",
       "    <tr>\n",
       "      <th>id</th>\n",
       "      <th></th>\n",
       "      <th></th>\n",
       "      <th></th>\n",
       "      <th></th>\n",
       "      <th></th>\n",
       "      <th></th>\n",
       "      <th></th>\n",
       "      <th></th>\n",
       "      <th></th>\n",
       "      <th></th>\n",
       "      <th></th>\n",
       "      <th></th>\n",
       "      <th></th>\n",
       "    </tr>\n",
       "  </thead>\n",
       "  <tbody>\n",
       "    <tr>\n",
       "      <th>0</th>\n",
       "      <td>39.0</td>\n",
       "      <td>0.0</td>\n",
       "      <td>0.0</td>\n",
       "      <td>13.0</td>\n",
       "      <td>0.0</td>\n",
       "      <td>0.0</td>\n",
       "      <td>0.0</td>\n",
       "      <td>0.0</td>\n",
       "      <td>0.0</td>\n",
       "      <td>2174.0</td>\n",
       "      <td>0.0</td>\n",
       "      <td>40.0</td>\n",
       "      <td>0.0</td>\n",
       "    </tr>\n",
       "    <tr>\n",
       "      <th>1</th>\n",
       "      <td>50.0</td>\n",
       "      <td>1.0</td>\n",
       "      <td>0.0</td>\n",
       "      <td>13.0</td>\n",
       "      <td>1.0</td>\n",
       "      <td>1.0</td>\n",
       "      <td>1.0</td>\n",
       "      <td>0.0</td>\n",
       "      <td>0.0</td>\n",
       "      <td>0.0</td>\n",
       "      <td>0.0</td>\n",
       "      <td>13.0</td>\n",
       "      <td>0.0</td>\n",
       "    </tr>\n",
       "    <tr>\n",
       "      <th>2</th>\n",
       "      <td>38.0</td>\n",
       "      <td>2.0</td>\n",
       "      <td>1.0</td>\n",
       "      <td>9.0</td>\n",
       "      <td>2.0</td>\n",
       "      <td>2.0</td>\n",
       "      <td>0.0</td>\n",
       "      <td>0.0</td>\n",
       "      <td>0.0</td>\n",
       "      <td>0.0</td>\n",
       "      <td>0.0</td>\n",
       "      <td>40.0</td>\n",
       "      <td>0.0</td>\n",
       "    </tr>\n",
       "    <tr>\n",
       "      <th>3</th>\n",
       "      <td>53.0</td>\n",
       "      <td>2.0</td>\n",
       "      <td>2.0</td>\n",
       "      <td>7.0</td>\n",
       "      <td>1.0</td>\n",
       "      <td>2.0</td>\n",
       "      <td>1.0</td>\n",
       "      <td>1.0</td>\n",
       "      <td>0.0</td>\n",
       "      <td>0.0</td>\n",
       "      <td>0.0</td>\n",
       "      <td>40.0</td>\n",
       "      <td>0.0</td>\n",
       "    </tr>\n",
       "    <tr>\n",
       "      <th>4</th>\n",
       "      <td>28.0</td>\n",
       "      <td>2.0</td>\n",
       "      <td>0.0</td>\n",
       "      <td>13.0</td>\n",
       "      <td>1.0</td>\n",
       "      <td>3.0</td>\n",
       "      <td>2.0</td>\n",
       "      <td>1.0</td>\n",
       "      <td>1.0</td>\n",
       "      <td>0.0</td>\n",
       "      <td>0.0</td>\n",
       "      <td>40.0</td>\n",
       "      <td>1.0</td>\n",
       "    </tr>\n",
       "  </tbody>\n",
       "</table>\n",
       "</div>"
      ],
      "text/plain": [
       "     age  workclass  education  education_num  marital_status  occupation  \\\n",
       "id                                                                          \n",
       "0   39.0        0.0        0.0           13.0             0.0         0.0   \n",
       "1   50.0        1.0        0.0           13.0             1.0         1.0   \n",
       "2   38.0        2.0        1.0            9.0             2.0         2.0   \n",
       "3   53.0        2.0        2.0            7.0             1.0         2.0   \n",
       "4   28.0        2.0        0.0           13.0             1.0         3.0   \n",
       "\n",
       "    relationship  race  sex  capital_gain  capital_loss  hours_per_week  \\\n",
       "id                                                                        \n",
       "0            0.0   0.0  0.0        2174.0           0.0            40.0   \n",
       "1            1.0   0.0  0.0           0.0           0.0            13.0   \n",
       "2            0.0   0.0  0.0           0.0           0.0            40.0   \n",
       "3            1.0   1.0  0.0           0.0           0.0            40.0   \n",
       "4            2.0   1.0  1.0           0.0           0.0            40.0   \n",
       "\n",
       "    native_country  \n",
       "id                  \n",
       "0              0.0  \n",
       "1              0.0  \n",
       "2              0.0  \n",
       "3              0.0  \n",
       "4              1.0  "
      ]
     },
     "execution_count": 9,
     "metadata": {},
     "output_type": "execute_result"
    }
   ],
   "source": [
    "dfs_dict['X_train'].head()"
   ]
  },
  {
   "cell_type": "markdown",
   "metadata": {},
   "source": [
    "# Machine Learning"
   ]
  },
  {
   "cell_type": "markdown",
   "metadata": {},
   "source": [
    "convergence warning: https://stackoverflow.com/questions/20681864/lasso-on-sklearn-does-not-converge"
   ]
  },
  {
   "cell_type": "code",
   "execution_count": 10,
   "metadata": {},
   "outputs": [],
   "source": [
    "from sklearn.linear_model import ElasticNet\n",
    "from sklearn.linear_model import LogisticRegression"
   ]
  },
  {
   "cell_type": "code",
   "execution_count": 11,
   "metadata": {},
   "outputs": [],
   "source": [
    "model_type = 'reg'\n",
    "ml_dict = {}"
   ]
  },
  {
   "cell_type": "code",
   "execution_count": 12,
   "metadata": {},
   "outputs": [],
   "source": [
    "def get_model_params(classifier):\n",
    "    if target_type == 'regression':\n",
    "        classifier.best_score_ = -classifier.best_score_\n",
    "    return classifier.best_params_, classifier.best_score_"
   ]
  },
  {
   "cell_type": "code",
   "execution_count": 13,
   "metadata": {},
   "outputs": [
    {
     "name": "stdout",
     "output_type": "stream",
     "text": [
      "running with key: standard\n"
     ]
    }
   ],
   "source": [
    "# Specify the hyperparameter space\n",
    "if target_type == 'regression':\n",
    "    parameters = {\n",
    "    'model__alpha': np.linspace(0.2, 1, 5), \n",
    "    'model__l1_ratio': np.linspace(0, 1, 5),\n",
    "    'model__random_state':[42]\n",
    "    }\n",
    "    ml_model = ElasticNet()\n",
    "    # set tol, default is 1e-4\n",
    "    do_transform_label = 'log'\n",
    "elif target_type == 'binary':\n",
    "    c_space = np.logspace(-5, 1, 5)\n",
    "    parameters = {\n",
    "    'model__C': c_space, \n",
    "    'model__penalty': ['l2'],\n",
    "    'model__random_state':[42]\n",
    "    }\n",
    "    ml_model = LogisticRegression()\n",
    "    do_transform_label = None\n",
    "\n",
    "df_x = dfs_dict['X_train']\n",
    "df_y = dfs_dict['y_train']\n",
    "key = 'standard'\n",
    "    \n",
    "print('running with key:', key)\n",
    "ml_dict[key] = {model_type: {}}"
   ]
  },
  {
   "cell_type": "markdown",
   "metadata": {},
   "source": [
    "### test with different preprocessing steps"
   ]
  },
  {
   "cell_type": "markdown",
   "metadata": {},
   "source": [
    "treat_collinearity = False, do_build_polynomals=True, do_treat_skewness=True, smote=True"
   ]
  },
  {
   "cell_type": "code",
   "execution_count": 14,
   "metadata": {},
   "outputs": [
    {
     "name": "stdout",
     "output_type": "stream",
     "text": [
      "test type: False\n",
      "{'standard': {'reg': {'best_params': {'model__C': 10.0,\n",
      "                                      'model__penalty': 'l2',\n",
      "                                      'model__random_state': 42},\n",
      "                      'best_score': 0.8016538598669616,\n",
      "                      'prediction_time': 0.0001999,\n",
      "                      'train_time': 173.713724}}}\n"
     ]
    }
   ],
   "source": [
    "clf, ml_dict[key][model_type]['train_time'], ml_dict[key][model_type]['prediction_time'] = apply_ml_model(\n",
    "    dfs_dict, df_y, ml_model, parameters, scoring,\n",
    "    encoding='one-hot', treat_collinearity = False, do_build_polynomals=False, \n",
    "    do_treat_skewness=True,\n",
    "    imputation=Imputer(strategy='median'), scaler=StandardScaler(),\n",
    "    smote=True, testing=False\n",
    "    )\n",
    "ml_dict[key][model_type]['best_params'], ml_dict[key][model_type]['best_score']  = get_model_params(clf)\n",
    "pprint(ml_dict)"
   ]
  },
  {
   "cell_type": "markdown",
   "metadata": {},
   "source": [
    "treat_collinearity = False, do_build_polynomals=True, do_treat_skewness=False,"
   ]
  },
  {
   "cell_type": "code",
   "execution_count": 15,
   "metadata": {},
   "outputs": [
    {
     "name": "stdout",
     "output_type": "stream",
     "text": [
      "test type: False\n",
      "number of columns before building polynomials: 96\n",
      "number of columns after building polynomials: 20\n",
      "{'standard': {'reg': {'best_params': {'model__C': 10.0,\n",
      "                                      'model__penalty': 'l2',\n",
      "                                      'model__random_state': 42},\n",
      "                      'best_score': 0.8258745541643039,\n",
      "                      'prediction_time': 0.0002999,\n",
      "                      'train_time': 5.404997}}}\n"
     ]
    }
   ],
   "source": [
    "clf, ml_dict[key][model_type]['train_time'], ml_dict[key][model_type]['prediction_time'] = apply_ml_model(\n",
    "    dfs_dict, df_y, ml_model, parameters, scoring,\n",
    "    encoding='one-hot', treat_collinearity = False, do_build_polynomals=True, \n",
    "    do_treat_skewness=False,\n",
    "    imputation=Imputer(strategy='median'), scaler=StandardScaler(),\n",
    "    smote=False\n",
    "    )\n",
    "ml_dict[key][model_type]['best_params'], ml_dict[key][model_type]['best_score']  = get_model_params(clf)\n",
    "pprint(ml_dict)"
   ]
  },
  {
   "cell_type": "markdown",
   "metadata": {},
   "source": [
    "treat_collinearity = False, do_build_polynomals=False, do_treat_skewness=False,"
   ]
  },
  {
   "cell_type": "code",
   "execution_count": 16,
   "metadata": {},
   "outputs": [
    {
     "name": "stdout",
     "output_type": "stream",
     "text": [
      "test type: False\n",
      "{'standard': {'reg': {'best_params': {'model__C': 10.0,\n",
      "                                      'model__penalty': 'l2',\n",
      "                                      'model__random_state': 42},\n",
      "                      'best_score': 0.8435483771148393,\n",
      "                      'prediction_time': 0.0002997,\n",
      "                      'train_time': 15.293}}}\n"
     ]
    }
   ],
   "source": [
    "clf, ml_dict[key][model_type]['train_time'], ml_dict[key][model_type]['prediction_time'] = apply_ml_model(\n",
    "    dfs_dict, df_y, ml_model, parameters, scoring,\n",
    "    encoding='one-hot', treat_collinearity = False, do_build_polynomals=False, \n",
    "    do_treat_skewness=False,\n",
    "    imputation=Imputer(strategy='median'), scaler=StandardScaler(),\n",
    "    )\n",
    "ml_dict[key][model_type]['best_params'], ml_dict[key][model_type]['best_score']  = get_model_params(clf)\n",
    "pprint(ml_dict)"
   ]
  },
  {
   "cell_type": "markdown",
   "metadata": {},
   "source": [
    "treat_collinearity = True, do_build_polynomals=False, do_treat_skewness=False,"
   ]
  },
  {
   "cell_type": "code",
   "execution_count": 17,
   "metadata": {},
   "outputs": [
    {
     "name": "stdout",
     "output_type": "stream",
     "text": [
      "test type: False\n",
      "{'standard': {'reg': {'best_params': {'model__C': 10.0,\n",
      "                                      'model__penalty': 'l2',\n",
      "                                      'model__random_state': 42},\n",
      "                      'best_score': 0.8474519743239458,\n",
      "                      'prediction_time': 0.0003001,\n",
      "                      'train_time': 13.172997}}}\n"
     ]
    }
   ],
   "source": [
    "clf, ml_dict[key][model_type]['train_time'], ml_dict[key][model_type]['prediction_time'] = apply_ml_model(\n",
    "    dfs_dict, df_y, ml_model, parameters, scoring,\n",
    "    encoding='one-hot', treat_collinearity = True, do_build_polynomals=False, \n",
    "    do_treat_skewness=False,\n",
    "    imputation=Imputer(strategy='median'), scaler=StandardScaler(),\n",
    "    )\n",
    "ml_dict[key][model_type]['best_params'], ml_dict[key][model_type]['best_score']  = get_model_params(clf)\n",
    "pprint(ml_dict)"
   ]
  },
  {
   "cell_type": "code",
   "execution_count": 18,
   "metadata": {},
   "outputs": [
    {
     "name": "stdout",
     "output_type": "stream",
     "text": [
      "RESULTS FOR LINEAR MODEL\n",
      "{'standard': {'reg': {'best_params': {'model__C': 10.0,\n",
      "                                      'model__penalty': 'l2',\n",
      "                                      'model__random_state': 42},\n",
      "                      'best_score': 0.8474519743239458,\n",
      "                      'prediction_time': 0.0003001,\n",
      "                      'train_time': 13.172997}}}\n"
     ]
    }
   ],
   "source": [
    "print('RESULTS FOR LINEAR MODEL')\n",
    "pprint(ml_dict)"
   ]
  },
  {
   "cell_type": "markdown",
   "metadata": {},
   "source": [
    "# save model parameters and metrics"
   ]
  },
  {
   "cell_type": "code",
   "execution_count": 19,
   "metadata": {},
   "outputs": [],
   "source": [
    "save_model_parameters(models_reports, model_type, clf)\n",
    "save_model_metrics(model_outputs, model_type, ml_dict)"
   ]
  },
  {
   "cell_type": "markdown",
   "metadata": {},
   "source": [
    "# tests on pipeline"
   ]
  },
  {
   "cell_type": "code",
   "execution_count": 20,
   "metadata": {},
   "outputs": [],
   "source": [
    "#imports neccessary for those tests\n",
    "from sklearn.base import BaseEstimator, TransformerMixin\n",
    "from sklearn.preprocessing import OrdinalEncoder\n",
    "from scipy.special import boxcox1p, logit\n",
    "from scipy.stats import norm, skew"
   ]
  }
 ],
 "metadata": {
  "kernelspec": {
   "display_name": "Python 3",
   "language": "python",
   "name": "python3"
  },
  "language_info": {
   "codemirror_mode": {
    "name": "ipython",
    "version": 3
   },
   "file_extension": ".py",
   "mimetype": "text/x-python",
   "name": "python",
   "nbconvert_exporter": "python",
   "pygments_lexer": "ipython3",
   "version": "3.7.5"
  }
 },
 "nbformat": 4,
 "nbformat_minor": 4
}
