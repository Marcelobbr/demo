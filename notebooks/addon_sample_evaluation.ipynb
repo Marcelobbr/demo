{
 "cells": [
  {
   "cell_type": "code",
   "execution_count": 50,
   "metadata": {},
   "outputs": [],
   "source": [
    "import os\n",
    "import sys\n",
    "import warnings\n",
    "from datetime import datetime\n",
    "\n",
    "import matplotlib.pyplot as plt\n",
    "import pandas as pd\n",
    "import numpy as np\n",
    "import seaborn as sns\n",
    "import statsmodels.api as sm\n",
    "import statistics\n",
    "import math\n",
    "import json\n",
    "from pprint import pprint\n",
    "\n",
    "%matplotlib inline\n",
    "warnings.filterwarnings('ignore')"
   ]
  },
  {
   "cell_type": "code",
   "execution_count": 51,
   "metadata": {},
   "outputs": [],
   "source": [
    "sys.path.append(os.path.join('..', 'src'))"
   ]
  },
  {
   "cell_type": "code",
   "execution_count": 52,
   "metadata": {},
   "outputs": [],
   "source": [
    "from model import timer, measure_prediction_time, apply_ml_model, save_model_parameters, save_model_metrics\n",
    "from params import ProjectParameters"
   ]
  },
  {
   "cell_type": "markdown",
   "metadata": {},
   "source": [
    "# define functions"
   ]
  },
  {
   "cell_type": "code",
   "execution_count": 53,
   "metadata": {},
   "outputs": [],
   "source": [
    "def capture_data(folder, file, label=False):\n",
    "    path = os.path.join(folder, file+'.csv')\n",
    "    return pd.read_csv(path, index_col='id')"
   ]
  },
  {
   "cell_type": "code",
   "execution_count": 54,
   "metadata": {},
   "outputs": [],
   "source": [
    "def load_json_results(filename):\n",
    "    filepath = os.path.join(model_outputs, filename+'.json')\n",
    "    with open(filepath, 'r') as file:\n",
    "        return json.load(file)"
   ]
  },
  {
   "cell_type": "markdown",
   "metadata": {},
   "source": [
    "# define paths"
   ]
  },
  {
   "cell_type": "code",
   "execution_count": 55,
   "metadata": {},
   "outputs": [],
   "source": [
    "inputs_raw = os.path.join('..', 'data', '01_raw')\n",
    "inputs_intermediate = os.path.join('..', 'data', '02_intermediate')\n",
    "inputs = os.path.join('..', 'data', '03_processed')\n",
    "model_outputs = os.path.join('..', 'data', '05_model_output')\n",
    "reports = os.path.join('..', 'data', '06_reporting')"
   ]
  },
  {
   "cell_type": "markdown",
   "metadata": {},
   "source": [
    "# capture data"
   ]
  },
  {
   "cell_type": "code",
   "execution_count": 56,
   "metadata": {},
   "outputs": [],
   "source": [
    "X_train                  = capture_data(inputs, 'X_train')\n",
    "X_test                   = capture_data(inputs, 'X_test')\n",
    "X_train_oh               = capture_data(inputs, 'X_train_oh')\n",
    "X_test_oh                = capture_data(inputs, 'X_test_oh')\n",
    "\n",
    "y_train                  = capture_data(inputs, 'y_train', label=True)\n",
    "y_test                   = capture_data(inputs, 'y_test', label=True)\n",
    "# y                        = capture_data('y', label=True)"
   ]
  },
  {
   "cell_type": "markdown",
   "metadata": {},
   "source": [
    "# load model"
   ]
  },
  {
   "cell_type": "code",
   "execution_count": 57,
   "metadata": {},
   "outputs": [],
   "source": [
    "ml_model = 'tree_randomforest'\n",
    "json_results = load_json_results(ml_model)\n",
    "for key,value in json_results.items():\n",
    "    model = value[ml_model]"
   ]
  },
  {
   "cell_type": "code",
   "execution_count": 58,
   "metadata": {},
   "outputs": [
    {
     "data": {
      "text/plain": [
       "{'max_features': 1, 'n_estimators': 100, 'random_state': 42}"
      ]
     },
     "execution_count": 58,
     "metadata": {},
     "output_type": "execute_result"
    }
   ],
   "source": [
    "params = {}\n",
    "for k,v in model['best_params'].items():\n",
    "    k = k[7:]\n",
    "    params[k] = v\n",
    "params"
   ]
  },
  {
   "cell_type": "code",
   "execution_count": 59,
   "metadata": {},
   "outputs": [],
   "source": [
    "from sklearn.preprocessing import StandardScaler"
   ]
  },
  {
   "cell_type": "code",
   "execution_count": 60,
   "metadata": {},
   "outputs": [],
   "source": [
    "#transform X_train and X_test\n",
    "scale = StandardScaler()\n",
    "\n",
    "X_train_oh_scaled = scale.fit_transform(X_train_oh)\n",
    "X_test_oh_scaled = scale.transform(X_test_oh)\n",
    "\n",
    "X_train_ord_scaled = scale.fit_transform(X_train)\n",
    "X_test_ord_scaled = scale.transform(X_test)"
   ]
  },
  {
   "cell_type": "code",
   "execution_count": 61,
   "metadata": {},
   "outputs": [],
   "source": [
    "X_train_oh_scaled = pd.DataFrame(X_train_oh_scaled, columns = X_train_oh.columns)\n",
    "X_test_oh_scaled = pd.DataFrame(X_test_oh, columns = X_test_oh.columns)\n",
    "\n",
    "X_train_ord_scaled = pd.DataFrame(X_train, columns = X_train.columns)\n",
    "X_test_ord_scaled = pd.DataFrame(X_test, columns = X_test.columns)"
   ]
  },
  {
   "cell_type": "markdown",
   "metadata": {},
   "source": [
    "# Minimum size"
   ]
  },
  {
   "cell_type": "markdown",
   "metadata": {},
   "source": [
    "* https://scikit-learn.org/stable/modules/learning_curve.html\n",
    "* https://scikit-learn.org/stable/auto_examples/model_selection/plot_learning_curve.html#sphx-glr-auto-examples-model-selection-plot-learning-curve-py"
   ]
  },
  {
   "cell_type": "code",
   "execution_count": 62,
   "metadata": {},
   "outputs": [],
   "source": [
    "from sklearn.model_selection import learning_curve\n",
    "from sklearn.model_selection import ShuffleSplit\n",
    "from sklearn.ensemble import RandomForestClassifier\n",
    "# from sklearn.linear_model import ElasticNet"
   ]
  },
  {
   "cell_type": "code",
   "execution_count": 63,
   "metadata": {},
   "outputs": [],
   "source": [
    "MODEL_SCORE = 0.927\n",
    "N = X_train.shape[0]"
   ]
  },
  {
   "cell_type": "code",
   "execution_count": 64,
   "metadata": {},
   "outputs": [],
   "source": [
    "def plot_learning_curve(estimator, title, X, y, axes=None, ylim=None, cv=None,\n",
    "                        n_jobs=None, train_sizes=np.linspace(.1, 1.0, 10), tol=0.05):\n",
    "    if axes is None:\n",
    "        _, axes = plt.subplots(1, 2, figsize=(20, 5))\n",
    "\n",
    "    axes[0].set_title(title)\n",
    "    if ylim is not None:\n",
    "        axes[0].set_ylim(*ylim)\n",
    "    axes[0].set_xlabel(\"Training examples\")\n",
    "    axes[0].set_ylabel(\"Score\")\n",
    "\n",
    "    train_sizes, train_scores, test_scores = \\\n",
    "        learning_curve(estimator, X, y, cv=cv, scoring=None, n_jobs=n_jobs,\n",
    "                       train_sizes=train_sizes,\n",
    "                      )\n",
    "    fit_times = 0\n",
    "    train_scores_mean = np.mean(train_scores, axis=1)\n",
    "    train_scores_std = np.std(train_scores, axis=1)\n",
    "    test_scores_mean = np.mean(test_scores, axis=1)\n",
    "    test_scores_std = np.std(test_scores, axis=1)\n",
    "\n",
    "    train_size=1\n",
    "    for i, train_size in enumerate(train_sizes):\n",
    "        if abs(MODEL_SCORE - test_scores_mean[i]) < tol: break\n",
    "    \n",
    "    # Plot learning curve\n",
    "    axes[0].grid()\n",
    "    axes[0].fill_between(train_sizes, train_scores_mean - train_scores_std,\n",
    "                         train_scores_mean + train_scores_std, alpha=0.1,\n",
    "                         color=\"r\")\n",
    "    axes[0].fill_between(train_sizes, test_scores_mean - test_scores_std,\n",
    "                         test_scores_mean + test_scores_std, alpha=0.1,\n",
    "                         color=\"g\")\n",
    "    axes[0].plot(train_sizes, train_scores_mean, 'o-', color=\"r\",\n",
    "                 label=\"Training score\")\n",
    "    axes[0].plot(train_sizes, test_scores_mean, 'o-', color=\"g\",\n",
    "                 label=\"Cross-validation score\")\n",
    "    axes[0].legend(loc=\"best\")\n",
    "\n",
    "    # Plot n_samples vs fit_times\n",
    "    axes[1].grid()\n",
    "    axes[1].set_xlabel(\"Training examples\")\n",
    "    axes[1].set_ylabel(\"fit_times\")\n",
    "    axes[1].set_title(\"Scalability of the model\")\n",
    "\n",
    "    return plt, train_size, test_scores_mean"
   ]
  },
  {
   "cell_type": "code",
   "execution_count": 65,
   "metadata": {},
   "outputs": [
    {
     "data": {
      "image/png": "[encoded data removed]",
      "text/plain": [
       "<Figure size 720x1080 with 2 Axes>"
      ]
     },
     "metadata": {
      "needs_background": "light"
     },
     "output_type": "display_data"
    }
   ],
   "source": [
    "n_samples = 10\n",
    "tol = 1e-02\n",
    "\n",
    "fig, axes = plt.subplots(2, 1, figsize=(10, 15))\n",
    "\n",
    "X, y = X_train_ord_scaled.head(500), y_train.head(500)\n",
    "\n",
    "title = \"Learning Curves (RandomForestClassifier)\"\n",
    "cv = ShuffleSplit(n_splits=100, test_size=0.2, random_state=0)\n",
    "\n",
    "estimator = RandomForestClassifier(max_features = params['max_features'], n_estimators = params['n_estimators'], \n",
    "                                         random_state = params['random_state'])\n",
    "_, train_size, _2 = plot_learning_curve(estimator, title, X, y, axes=axes, ylim=(0.7, 1.01),\n",
    "                    cv=cv, n_jobs=4, train_sizes=np.linspace(.1, 1.0, n_samples), tol=tol)\n",
    "\n",
    "file = 'learning_curve.png'\n",
    "plt.savefig(os.path.join(reports,file), bbox_inches='tight')"
   ]
  },
  {
   "cell_type": "markdown",
   "metadata": {},
   "source": [
    "# same distribution sample\n",
    "If we had a huge dataset, it would be interesting to build a method to evaluate if the distributions correspond to a specific significance level. Smirnov-Kolmogorov is handy here.\n",
    "\n",
    "Some refs:\n",
    "* https://medium.com/data-science-reporter/how-to-correctly-select-a-sample-from-a-huge-dataset-in-machine-learning-24327650372c"
   ]
  },
  {
   "cell_type": "code",
   "execution_count": 66,
   "metadata": {},
   "outputs": [],
   "source": [
    "from scipy import stats\n",
    "from scipy.stats import ks_2samp"
   ]
  },
  {
   "cell_type": "code",
   "execution_count": 67,
   "metadata": {},
   "outputs": [],
   "source": [
    "data = pd.read_csv(os.path.join(inputs_intermediate, 'data.csv'), index_col='id')\n",
    "data = data[ProjectParameters().numerical_cols]\n",
    "# data.drop(['address', 'tower_name', 'building_type'], axis=1, inplace=True)"
   ]
  },
  {
   "cell_type": "code",
   "execution_count": 68,
   "metadata": {},
   "outputs": [],
   "source": [
    "vals_list = []\n",
    "for var in data.columns:\n",
    "    vals = data[var].to_list()\n",
    "    vals_list.append(vals)"
   ]
  },
  {
   "cell_type": "code",
   "execution_count": 69,
   "metadata": {},
   "outputs": [
    {
     "name": "stdout",
     "output_type": "stream",
     "text": [
      "found sample after 1 iterations\n"
     ]
    }
   ],
   "source": [
    "iterations = 100\n",
    "significance = 0.05\n",
    "size = 1000\n",
    "for i in range(1, iterations+1):\n",
    "    sample = data.sample(size)\n",
    "    sample_indexes = sample.index\n",
    "    retrieved = True\n",
    "    for var in range(data.shape[1]):\n",
    "        var_sample = np.array(sample.iloc[:,var])\n",
    "        metrics = ks_2samp(vals_list[var], var_sample)\n",
    "        pvalue = round(metrics[1], 3)\n",
    "        if pvalue < significance: \n",
    "            retrieved = False\n",
    "            break\n",
    "    if retrieved == True: \n",
    "        print('found sample after {} iterations'.format(i) )\n",
    "        break"
   ]
  },
  {
   "cell_type": "code",
   "execution_count": 70,
   "metadata": {},
   "outputs": [
    {
     "data": {
      "text/plain": [
       "Int64Index([16707, 28650, 25318, 12101, 27933, 21655, 28609, 18461, 25620,\n",
       "            14183,\n",
       "            ...\n",
       "            27659,  7414, 11203,  3578,  6108, 15827,  8030, 19653,  5863,\n",
       "            15252],\n",
       "           dtype='int64', name='id', length=1000)"
      ]
     },
     "execution_count": 70,
     "metadata": {},
     "output_type": "execute_result"
    }
   ],
   "source": [
    "sample_indexes"
   ]
  },
  {
   "cell_type": "code",
   "execution_count": null,
   "metadata": {},
   "outputs": [],
   "source": []
  }
 ],
 "metadata": {
  "kernelspec": {
   "display_name": "Python 3",
   "language": "python",
   "name": "python3"
  },
  "language_info": {
   "codemirror_mode": {
    "name": "ipython",
    "version": 3
   },
   "file_extension": ".py",
   "mimetype": "text/x-python",
   "name": "python",
   "nbconvert_exporter": "python",
   "pygments_lexer": "ipython3",
   "version": "3.7.5"
  }
 },
 "nbformat": 4,
 "nbformat_minor": 2
}
