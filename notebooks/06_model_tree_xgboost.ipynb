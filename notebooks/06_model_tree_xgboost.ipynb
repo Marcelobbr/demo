{
 "cells": [
  {
   "cell_type": "code",
   "execution_count": 4,
   "metadata": {},
   "outputs": [],
   "source": [
    "import json\n",
    "import os\n",
    "import sys\n",
    "import warnings\n",
    "\n",
    "import matplotlib.pyplot as plt\n",
    "import numpy as np\n",
    "import pandas as pd\n",
    "from datetime import datetime\n",
    "from pprint import pprint\n",
    "from sklearn.preprocessing import StandardScaler\n",
    "from sklearn.impute import SimpleImputer as Imputer\n",
    "from sklearn.pipeline import Pipeline\n",
    "from sklearn.model_selection import GridSearchCV\n",
    "from sklearn.metrics import accuracy_score, log_loss, f1_score\n",
    "from sklearn.metrics import mean_absolute_error, mean_squared_error, r2_score\n",
    "\n",
    "warnings.filterwarnings('ignore')"
   ]
  },
  {
   "cell_type": "code",
   "execution_count": 5,
   "metadata": {},
   "outputs": [],
   "source": [
    "sys.path.append(os.path.join('..', 'src'))"
   ]
  },
  {
   "cell_type": "code",
   "execution_count": 6,
   "metadata": {},
   "outputs": [],
   "source": [
    "import importlib\n",
    "import utils, model, params, s04_encoding, s05_2_feature_engineering\n",
    "\n",
    "importlib.reload(model)\n",
    "importlib.reload(utils)\n",
    "from utils import capture_data, build_data_dict\n",
    "from model import timer, measure_prediction_time, apply_ml_model, save_model_parameters, save_model_metrics\n",
    "from model import get_folders\n",
    "\n",
    "importlib.reload(params)\n",
    "from params import ProjectParameters\n",
    "\n",
    "importlib.reload(s04_encoding)\n",
    "importlib.reload(s05_2_feature_engineering)\n",
    "from s04_encoding import ordinal_encode, one_hot_encode\n",
    "from s05_2_feature_engineering import build_polynomials, transform_label, treat_skewness"
   ]
  },
  {
   "cell_type": "markdown",
   "metadata": {},
   "source": [
    "# define functions"
   ]
  },
  {
   "cell_type": "code",
   "execution_count": 118,
   "metadata": {},
   "outputs": [],
   "source": [
    "def apply_ml_model(alg, data_dict, y_train_set, target_type, \n",
    "                   encoding='ordinal', treat_collinearity = False, build_polynomals_method=None, do_transform_label=False, \n",
    "                   do_treat_skewness=False,\n",
    "                   useTrainCV=True, cv_folds=5, early_stopping_rounds=50):\n",
    "    '''\n",
    "     \\n\n",
    "    target_type might be 'regression' or 'binary'\n",
    "    '''\n",
    "    start_time = datetime.now()\n",
    "\n",
    "    if encoding == 'one-hot':\n",
    "        set_name = 'X_train_oh'\n",
    "    elif encoding == 'ordinal':\n",
    "        set_name = 'X_train'\n",
    "#     if treat_collinearity == True:\n",
    "#         set_name = 'X_train_oh_nocol'\n",
    "    X_train_set = data_dict[set_name]\n",
    "    if build_polynomals_method: \n",
    "        X_train_set = build_polynomials(X_train_set, ProjectParameters().numerical_cols, method = build_polynomals_method)\n",
    "    if do_transform_label:\n",
    "#         predictors = X_train_set.columns.to_list()\n",
    "        y_train_set = transform_label(y_train_set, do_transform_label)\n",
    "    if do_treat_skewness:\n",
    "        X_train_set = treat_skewness(X_train_set, set_name)\n",
    "    \n",
    "    if useTrainCV:\n",
    "        xgb_param = alg.get_xgb_params()\n",
    "        xgtrain = xgb.DMatrix(X_train_set[predictors].values, label=y_train_set)\n",
    "        if target_type == 'regression':\n",
    "            metrics = ['rmse']\n",
    "        elif target_type == 'binary':\n",
    "            metrics = ['logloss']\n",
    "        cvresult = xgb.cv(xgb_param, xgtrain, num_boost_round=alg.get_params()['n_estimators'], nfold=cv_folds,\n",
    "            metrics=metrics, early_stopping_rounds=early_stopping_rounds, verbose_eval=True)\n",
    "        alg.set_params(n_estimators=cvresult.shape[0])\n",
    "    \n",
    "    #Fit the algorithm on the data\n",
    "    alg.fit(X_train_set[predictors], y_train_set,eval_metric='auc')\n",
    "    print(type(alg))\n",
    "        \n",
    "    #Predict training set:\n",
    "    X_train_set_predictions = alg.predict(X_train_set[predictors])\n",
    "\n",
    "#     best_score = cvresult.loc[len(cvresult)-1,['test-rmse-mean']]  \n",
    "    if target_type == 'regression':\n",
    "        best_score = mean_squared_error(y_train_set, X_train_set_predictions)\n",
    "    elif target_type == 'binary':\n",
    "        best_score = accuracy_score(y_train_set, X_train_set_predictions)\n",
    "    \n",
    "    \n",
    "    #Print model report:\n",
    "    print (\"\\nModel Report\")\n",
    "    print (\"Score : %.4g\" % best_score)\n",
    "    if target_type == 'regression':\n",
    "        print (\"R2 : %.4g\" % r2_score(y_train_set, X_train_set_predictions))\n",
    "    elif target_type == 'binary':\n",
    "           print (\"f1 : %.4g\" % f1_score(y_train_set, X_train_set_predictions))\n",
    "\n",
    "#     print (\"AUC Score (Train): %f\" % roc_auc_score(y_train_set, X_train_set_predprob))\n",
    "    \n",
    "    train_time = round(timer(start_time),9)\n",
    "    prediction_time = measure_prediction_time(alg, X_train_set)\n",
    "    \n",
    "#     return alg.get_params(), train_time, prediction_time\n",
    "    return alg, best_score, train_time, prediction_time, X_train_set"
   ]
  },
  {
   "cell_type": "markdown",
   "metadata": {},
   "source": [
    "# Define paths"
   ]
  },
  {
   "cell_type": "code",
   "execution_count": 119,
   "metadata": {},
   "outputs": [],
   "source": [
    "inputs = os.path.join('..', 'data', '03_processed')\n",
    "outputs = os.path.join('..', 'data', '03_processed')\n",
    "models_reports = os.path.join('..', 'data', '04_models')\n",
    "model_outputs = os.path.join('..', 'data', '05_model_output')\n",
    "reports = os.path.join('..', 'data', '06_reporting')"
   ]
  },
  {
   "cell_type": "markdown",
   "metadata": {},
   "source": [
    "# Data capture\n",
    "As dataset is small, we might export data to a pandas dataframe."
   ]
  },
  {
   "cell_type": "code",
   "execution_count": 120,
   "metadata": {},
   "outputs": [
    {
     "name": "stdout",
     "output_type": "stream",
     "text": [
      "SELECTED TARGET AND SCORING ARE: binary , accuracy\n",
      "loading data into dictionary\n",
      "(32534, 13)\n",
      "(32534, 1)\n"
     ]
    }
   ],
   "source": [
    "target_type = ProjectParameters().target_type\n",
    "scoring = ProjectParameters().scoring\n",
    "print('SELECTED TARGET AND SCORING ARE:', target_type, ',', scoring)\n",
    "\n",
    "inputs, models_reports, model_outputs, reports = get_folders()\n",
    "\n",
    "data_list = ['X_train', 'y_train']\n",
    "dfs_dict = build_data_dict(inputs, data_list)\n",
    "\n",
    "for df in data_list:\n",
    "    print(dfs_dict[df].shape)"
   ]
  },
  {
   "cell_type": "code",
   "execution_count": 121,
   "metadata": {},
   "outputs": [],
   "source": [
    "# X_train_oh = dfs_dict['X_train']\n",
    "y_train = dfs_dict['y_train']"
   ]
  },
  {
   "cell_type": "code",
   "execution_count": 122,
   "metadata": {},
   "outputs": [],
   "source": [
    "y_train = y_train['y'].to_list()"
   ]
  },
  {
   "cell_type": "markdown",
   "metadata": {},
   "source": [
    "# Machine Learning"
   ]
  },
  {
   "cell_type": "code",
   "execution_count": 123,
   "metadata": {},
   "outputs": [],
   "source": [
    "import warnings\n",
    "warnings.filterwarnings('ignore')"
   ]
  },
  {
   "cell_type": "code",
   "execution_count": 124,
   "metadata": {},
   "outputs": [],
   "source": [
    "import xgboost as xgb\n",
    "from xgboost.sklearn import XGBRegressor\n",
    "from xgboost.sklearn import XGBClassifier"
   ]
  },
  {
   "cell_type": "code",
   "execution_count": 125,
   "metadata": {},
   "outputs": [],
   "source": [
    "model_type = 'tree_xgboost'\n",
    "ml_dict = {'standard': {model_type: {}}}"
   ]
  },
  {
   "cell_type": "code",
   "execution_count": 126,
   "metadata": {},
   "outputs": [
    {
     "name": "stdout",
     "output_type": "stream",
     "text": [
      "number of columns before building polynomials: 13\n",
      "number of columns after building polynomials: 18\n",
      "[0]\ttrain-logloss:0.639337+0.000257139\ttest-logloss:0.639536+0.000400041\n",
      "[1]\ttrain-logloss:0.595832+0.000955293\ttest-logloss:0.596162+0.00188094\n",
      "[2]\ttrain-logloss:0.558825+0.000613805\ttest-logloss:0.559379+0.00178529\n",
      "[3]\ttrain-logloss:0.527561+0.000595607\ttest-logloss:0.52833+0.00203729\n",
      "[4]\ttrain-logloss:0.501549+0.00126672\ttest-logloss:0.50256+0.00172313\n",
      "[5]\ttrain-logloss:0.478787+0.00132224\ttest-logloss:0.480079+0.00219689\n",
      "[6]\ttrain-logloss:0.459141+0.00107701\ttest-logloss:0.460531+0.00272858\n",
      "[7]\ttrain-logloss:0.441794+0.0009337\ttest-logloss:0.443321+0.00300265\n",
      "[8]\ttrain-logloss:0.426863+0.000918048\ttest-logloss:0.428573+0.00322169\n",
      "[9]\ttrain-logloss:0.413532+0.00107016\ttest-logloss:0.415427+0.00337188\n",
      "[10]\ttrain-logloss:0.401781+0.000881432\ttest-logloss:0.403896+0.00370781\n",
      "[11]\ttrain-logloss:0.391627+0.000948986\ttest-logloss:0.393907+0.00377049\n",
      "[12]\ttrain-logloss:0.382556+0.000925222\ttest-logloss:0.384915+0.00381026\n",
      "[13]\ttrain-logloss:0.374425+0.00103316\ttest-logloss:0.376944+0.00384965\n",
      "[14]\ttrain-logloss:0.367307+0.00111764\ttest-logloss:0.36992+0.0039523\n",
      "[15]\ttrain-logloss:0.360573+0.00100183\ttest-logloss:0.363417+0.0042228\n",
      "[16]\ttrain-logloss:0.354598+0.00113534\ttest-logloss:0.357566+0.00421426\n",
      "[17]\ttrain-logloss:0.349207+0.00101566\ttest-logloss:0.352384+0.00449479\n",
      "[18]\ttrain-logloss:0.344225+0.00105844\ttest-logloss:0.347652+0.0045055\n",
      "[19]\ttrain-logloss:0.339897+0.00106913\ttest-logloss:0.343522+0.00456149\n",
      "[20]\ttrain-logloss:0.335975+0.00118784\ttest-logloss:0.339758+0.00459503\n",
      "[21]\ttrain-logloss:0.332402+0.00106993\ttest-logloss:0.336308+0.00484088\n",
      "[22]\ttrain-logloss:0.329192+0.00101926\ttest-logloss:0.333264+0.00492144\n",
      "[23]\ttrain-logloss:0.326241+0.000989267\ttest-logloss:0.330477+0.00502037\n",
      "[24]\ttrain-logloss:0.323455+0.00108048\ttest-logloss:0.327839+0.00491768\n",
      "[25]\ttrain-logloss:0.320874+0.00128389\ttest-logloss:0.325515+0.00478395\n",
      "[26]\ttrain-logloss:0.318237+0.00134909\ttest-logloss:0.323038+0.00478826\n",
      "[27]\ttrain-logloss:0.316042+0.00134167\ttest-logloss:0.321099+0.00490986\n",
      "[28]\ttrain-logloss:0.314048+0.00141751\ttest-logloss:0.319238+0.0048906\n",
      "[29]\ttrain-logloss:0.312231+0.00145108\ttest-logloss:0.317552+0.00489989\n",
      "[30]\ttrain-logloss:0.310336+0.0013627\ttest-logloss:0.31587+0.00505962\n",
      "[31]\ttrain-logloss:0.308772+0.00140656\ttest-logloss:0.314481+0.00507171\n",
      "[32]\ttrain-logloss:0.307174+0.00156137\ttest-logloss:0.313178+0.00503032\n",
      "[33]\ttrain-logloss:0.305597+0.00148802\ttest-logloss:0.311759+0.0051916\n",
      "[34]\ttrain-logloss:0.304198+0.00143625\ttest-logloss:0.310556+0.00535925\n",
      "[35]\ttrain-logloss:0.302731+0.0013149\ttest-logloss:0.309218+0.00548568\n",
      "[36]\ttrain-logloss:0.301454+0.00148265\ttest-logloss:0.308086+0.00536718\n",
      "[37]\ttrain-logloss:0.300347+0.00147071\ttest-logloss:0.307114+0.00538999\n",
      "[38]\ttrain-logloss:0.299205+0.00155183\ttest-logloss:0.306137+0.00535991\n",
      "[39]\ttrain-logloss:0.298196+0.00150561\ttest-logloss:0.305305+0.00548411\n",
      "[40]\ttrain-logloss:0.296914+0.00137731\ttest-logloss:0.304155+0.00568891\n",
      "[41]\ttrain-logloss:0.29588+0.00134685\ttest-logloss:0.303299+0.00564912\n",
      "[42]\ttrain-logloss:0.294848+0.00130582\ttest-logloss:0.302453+0.0058022\n",
      "[43]\ttrain-logloss:0.294063+0.0012505\ttest-logloss:0.301825+0.00594291\n",
      "[44]\ttrain-logloss:0.293101+0.0011374\ttest-logloss:0.301012+0.00604606\n",
      "[45]\ttrain-logloss:0.292258+0.00130603\ttest-logloss:0.300359+0.00598952\n",
      "[46]\ttrain-logloss:0.291384+0.00133164\ttest-logloss:0.299687+0.00600528\n",
      "[47]\ttrain-logloss:0.290458+0.00135411\ttest-logloss:0.298951+0.00600916\n",
      "[48]\ttrain-logloss:0.289757+0.00139204\ttest-logloss:0.298466+0.00605619\n",
      "[49]\ttrain-logloss:0.288963+0.00138822\ttest-logloss:0.297857+0.00612565\n",
      "<class 'xgboost.sklearn.XGBClassifier'>\n",
      "\n",
      "Model Report\n",
      "Score : 0.8665\n",
      "f1 : 0.682\n"
     ]
    }
   ],
   "source": [
    "if target_type == 'regression':\n",
    "    objective = 'reg:squarederror'\n",
    "    model = XGBRegressor()\n",
    "    do_transform_label='log'\n",
    "elif target_type == 'binary':\n",
    "    objective = 'binary:logistic'\n",
    "    model = XGBClassifier()\n",
    "    do_transform_label=None\n",
    "params = {'learning_rate': 0.1,\n",
    "        'n_estimators': 50, # standard is 10\n",
    "        'max_depth': 5,\n",
    "        'min_child_weight': 1,\n",
    "        'gamma': 0,\n",
    "        'subsample': 0.8,\n",
    "        'colsample_bytree': 0.8,\n",
    "        'objective':  objective,\n",
    "        'nthread': 4,\n",
    "        'scale_pos_weight': 1,\n",
    "        'random_state': 42,\n",
    "         'nthread': 8}\n",
    "for k,v in params.items(): \n",
    "    setattr(model, k, v)\n",
    "    \n",
    "key = 'standard'\n",
    "\n",
    "(clf, \n",
    " ml_dict[key][model_type]['best_score'], \n",
    " ml_dict[key][model_type]['train_time'], \n",
    " ml_dict[key][model_type]['prediction_time'], \n",
    " data_transformed) = apply_ml_model(model, dfs_dict, y_train, target_type, encoding='ordinal', build_polynomals_method='simple_square', \n",
    "                                    do_treat_skewness=False\n",
    "                                   )\n",
    "\n",
    "ml_dict[key][model_type]['best_params'] = clf.get_params()"
   ]
  },
  {
   "cell_type": "markdown",
   "metadata": {},
   "source": [
    "# feature importances"
   ]
  },
  {
   "cell_type": "code",
   "execution_count": 127,
   "metadata": {},
   "outputs": [
    {
     "data": {
      "image/png": "[encoded data removed]",
      "text/plain": [
       "<Figure size 432x288 with 1 Axes>"
      ]
     },
     "metadata": {
      "needs_background": "light"
     },
     "output_type": "display_data"
    }
   ],
   "source": [
    "feature_importances = pd.Series(clf.get_booster().get_score(importance_type='weight')).sort_values(ascending=False)\n",
    "feature_importances.head(20).plot(kind='bar', title='Feature Importances')\n",
    "plt.ylabel('Feature Importance Score');\n",
    "plt.savefig(os.path.join(reports, 'xgboost_importances.jpg'), bbox_inches='tight')"
   ]
  },
  {
   "cell_type": "code",
   "execution_count": 128,
   "metadata": {},
   "outputs": [
    {
     "name": "stdout",
     "output_type": "stream",
     "text": [
      "RESULTS FOR XGB MODEL\n",
      "{'standard': {'tree_xgboost': {'best_params': {'base_score': 0.5,\n",
      "                                               'booster': 'gbtree',\n",
      "                                               'colsample_bylevel': 1,\n",
      "                                               'colsample_bynode': 1,\n",
      "                                               'colsample_bytree': 0.8,\n",
      "                                               'gamma': 0,\n",
      "                                               'learning_rate': 0.1,\n",
      "                                               'max_delta_step': 0,\n",
      "                                               'max_depth': 5,\n",
      "                                               'min_child_weight': 1,\n",
      "                                               'missing': None,\n",
      "                                               'n_estimators': 50,\n",
      "                                               'n_jobs': 1,\n",
      "                                               'nthread': 8,\n",
      "                                               'objective': 'binary:logistic',\n",
      "                                               'random_state': 42,\n",
      "                                               'reg_alpha': 0,\n",
      "                                               'reg_lambda': 1,\n",
      "                                               'scale_pos_weight': 1,\n",
      "                                               'seed': None,\n",
      "                                               'silent': None,\n",
      "                                               'subsample': 0.8,\n",
      "                                               'verbosity': 1},\n",
      "                               'best_score': 0.8665088830146923,\n",
      "                               'prediction_time': 0.0001999,\n",
      "                               'train_time': 3.482}}}\n"
     ]
    }
   ],
   "source": [
    "print('RESULTS FOR XGB MODEL')\n",
    "pprint(ml_dict)"
   ]
  },
  {
   "cell_type": "markdown",
   "metadata": {},
   "source": [
    "# save model parameters"
   ]
  },
  {
   "cell_type": "code",
   "execution_count": 129,
   "metadata": {},
   "outputs": [],
   "source": [
    "save_model_parameters(models_reports, model_type, clf)"
   ]
  },
  {
   "cell_type": "markdown",
   "metadata": {},
   "source": [
    "# save model metrics"
   ]
  },
  {
   "cell_type": "code",
   "execution_count": 130,
   "metadata": {},
   "outputs": [],
   "source": [
    "save_model_metrics(model_outputs, model_type, ml_dict)"
   ]
  },
  {
   "cell_type": "markdown",
   "metadata": {},
   "source": [
    "# save final transformed data (for interpretability checkup)"
   ]
  },
  {
   "cell_type": "code",
   "execution_count": 131,
   "metadata": {},
   "outputs": [],
   "source": [
    "data_transformed.to_csv(os.path.join(outputs, 'data_interpretability.csv'))"
   ]
  },
  {
   "cell_type": "code",
   "execution_count": null,
   "metadata": {},
   "outputs": [],
   "source": []
  }
 ],
 "metadata": {
  "kernelspec": {
   "display_name": "Python 3",
   "language": "python",
   "name": "python3"
  },
  "language_info": {
   "codemirror_mode": {
    "name": "ipython",
    "version": 3
   },
   "file_extension": ".py",
   "mimetype": "text/x-python",
   "name": "python",
   "nbconvert_exporter": "python",
   "pygments_lexer": "ipython3",
   "version": "3.7.5"
  }
 },
 "nbformat": 4,
 "nbformat_minor": 4
}
