{
 "cells": [
  {
   "cell_type": "code",
   "execution_count": 34,
   "metadata": {},
   "outputs": [],
   "source": [
    "import json\n",
    "import math\n",
    "import os\n",
    "import sys\n",
    "import warnings\n",
    "\n",
    "import matplotlib.pyplot as plt\n",
    "import numpy as np\n",
    "import pandas as pd\n",
    "import pickle\n",
    "import seaborn as sns\n",
    "import statistics\n",
    "import statsmodels.api as sm\n",
    "\n",
    "warnings.filterwarnings('ignore')"
   ]
  },
  {
   "cell_type": "code",
   "execution_count": 2,
   "metadata": {},
   "outputs": [],
   "source": [
    "from sklearn.preprocessing import StandardScaler\n",
    "from sklearn.impute import SimpleImputer as Imputer\n",
    "from sklearn.pipeline import Pipeline\n",
    "from sklearn.model_selection import train_test_split, GridSearchCV\n",
    "from sklearn.metrics import classification_report, roc_curve, precision_recall_curve, confusion_matrix #, plot_confusion_matrix\n",
    "from sklearn.metrics import accuracy_score, log_loss, f1_score\n",
    "from sklearn.metrics import mean_absolute_error, mean_squared_error, r2_score"
   ]
  },
  {
   "cell_type": "code",
   "execution_count": 3,
   "metadata": {},
   "outputs": [],
   "source": [
    "sys.path.append(os.path.join('..', 'src'))"
   ]
  },
  {
   "cell_type": "code",
   "execution_count": 4,
   "metadata": {},
   "outputs": [],
   "source": [
    "import importlib\n",
    "import utils, model, params, s05_2_feature_engineering\n",
    "importlib.reload(utils)\n",
    "importlib.reload(model)\n",
    "importlib.reload(params)\n",
    "importlib.reload(s05_2_feature_engineering)\n",
    "from utils import build_data_dict\n",
    "# from model import timer, measure_prediction_time, apply_ml_model, save_model_parameters, save_model_metrics\n",
    "from model import get_folders\n",
    "from params import ProjectParameters\n",
    "from s05_2_feature_engineering import build_polynomials, transform_label, treat_skewness"
   ]
  },
  {
   "cell_type": "markdown",
   "metadata": {},
   "source": [
    "# set model parameters"
   ]
  },
  {
   "cell_type": "code",
   "execution_count": 5,
   "metadata": {},
   "outputs": [
    {
     "name": "stdout",
     "output_type": "stream",
     "text": [
      "SELECTED TARGET AND SCORING ARE: binary , accuracy\n"
     ]
    }
   ],
   "source": [
    "target_type = ProjectParameters().target_type\n",
    "scoring = ProjectParameters().scoring\n",
    "print('SELECTED TARGET AND SCORING ARE:', target_type, ',', scoring)"
   ]
  },
  {
   "cell_type": "markdown",
   "metadata": {},
   "source": [
    "# Data capture"
   ]
  },
  {
   "cell_type": "code",
   "execution_count": 6,
   "metadata": {},
   "outputs": [
    {
     "name": "stdout",
     "output_type": "stream",
     "text": [
      "loading data into dictionary\n"
     ]
    }
   ],
   "source": [
    "inputs, models_reports, model_outputs, reports = get_folders()\n",
    "\n",
    "data_list = ['X_train', 'X_test', 'X_train_oh', 'X_test_oh', 'X_train_oh', 'X_test_oh', 'y_train', 'y_test']\n",
    "dfs_dict = build_data_dict(inputs, data_list)"
   ]
  },
  {
   "cell_type": "code",
   "execution_count": 7,
   "metadata": {},
   "outputs": [],
   "source": [
    "dfs_dict['y_train'] = dfs_dict['y_train']['y'].to_list()\n",
    "dfs_dict['y_test'] = dfs_dict['y_test']['y'].to_list()"
   ]
  },
  {
   "cell_type": "markdown",
   "metadata": {},
   "source": [
    "# Machine Learning"
   ]
  },
  {
   "cell_type": "code",
   "execution_count": 8,
   "metadata": {},
   "outputs": [],
   "source": [
    "import warnings\n",
    "warnings.filterwarnings('ignore')"
   ]
  },
  {
   "cell_type": "code",
   "execution_count": 9,
   "metadata": {},
   "outputs": [],
   "source": [
    "from sklearn.ensemble import RandomForestRegressor\n",
    "from sklearn.ensemble import RandomForestClassifier\n",
    "\n",
    "import xgboost as xgb\n",
    "from xgboost.sklearn import XGBRegressor\n",
    "from xgboost.sklearn import XGBClassifier"
   ]
  },
  {
   "cell_type": "markdown",
   "metadata": {},
   "source": [
    "# Calculating final score with a test set"
   ]
  },
  {
   "cell_type": "code",
   "execution_count": 10,
   "metadata": {},
   "outputs": [],
   "source": [
    "def get_transformations(data_dict, set_name, y_set,\n",
    "               encoding='ordinal', treat_collinearity = False, build_polynomals_method=False, \n",
    "                label_transformation_type=None, do_treat_skewness=False,\n",
    "               imputation=None, scaler=None,\n",
    "               ):\n",
    "    if encoding == 'one-hot':\n",
    "        set_name = set_name+'_oh'\n",
    "    elif encoding == 'ordinal':\n",
    "        set_name = set_name\n",
    "    if treat_collinearity:\n",
    "        set_name = set_name+'_oh_nocol'\n",
    "    X_set = data_dict[set_name]\n",
    "    \n",
    "    if build_polynomals_method: \n",
    "        X_train_set = build_polynomials(X_set, ProjectParameters().numerical_cols, method = build_polynomals_method)\n",
    "    if label_transformation_type:\n",
    "        y_set = transform_label(y_set, label_transformation_type)\n",
    "    if do_treat_skewness:\n",
    "        X_set = treat_skewness(X_set, set_name)\n",
    "        \n",
    "    if scaler:\n",
    "        X_set = scale.fit_transform(X_set)\n",
    "        X_set = pd.DataFrame(X_set, columns = X_set.columns)\n",
    "    if imputation:\n",
    "        X_set.fillna(imputation)\n",
    "    \n",
    "    return X_set, y_set"
   ]
  },
  {
   "cell_type": "code",
   "execution_count": 11,
   "metadata": {},
   "outputs": [],
   "source": [
    "def transform_label(df, transformation = None, testing=False):\n",
    "    print('transform_label function activated')\n",
    "    df = df.copy()\n",
    "    if transformation == 'log':\n",
    "        df = np.log1p(df)\n",
    "    elif transformation == 'logit':\n",
    "        max_x = max(df)+1\n",
    "        min_x = min(df)-1\n",
    "        df = (df - min_x) / (max_x - min_x)\n",
    "        df = logit(df)\n",
    "    if testing: print(df.head())\n",
    "    return df"
   ]
  },
  {
   "cell_type": "code",
   "execution_count": 12,
   "metadata": {},
   "outputs": [
    {
     "name": "stdout",
     "output_type": "stream",
     "text": [
      "number of columns before building polynomials: 13\n",
      "number of columns after building polynomials: 18\n",
      "number of columns before building polynomials: 13\n",
      "number of columns after building polynomials: 18\n"
     ]
    }
   ],
   "source": [
    "transformed_dicts = dfs_dict.copy()\n",
    "if target_type == 'regression':\n",
    "    label_transformation_type = 'log'\n",
    "else:\n",
    "    label_transformation_type = None\n",
    "for X,y in zip(['X_train', 'X_test'], ['y_train', 'y_test']):\n",
    "    transformed_dicts[X], transformed_dicts[y] = get_transformations(\n",
    "        transformed_dicts, X, transformed_dicts[y],\n",
    "        encoding='ordinal', build_polynomals_method='simple_square', do_treat_skewness=True,\n",
    "        imputation=None, scaler=None)"
   ]
  },
  {
   "cell_type": "markdown",
   "metadata": {},
   "source": [
    "# load results\n",
    "Capture best parameters of chosen model which were obtained during cross validation"
   ]
  },
  {
   "cell_type": "code",
   "execution_count": 13,
   "metadata": {},
   "outputs": [],
   "source": [
    "def load_json_results(filename):\n",
    "    filepath = os.path.join(model_outputs, filename+'.json')\n",
    "    with open(filepath, 'r') as file:\n",
    "        json_results = json.load(file)\n",
    "    model = list(json_results.values())[0][ml_model]\n",
    "    return model"
   ]
  },
  {
   "cell_type": "markdown",
   "metadata": {},
   "source": [
    "# build model to apply on test set"
   ]
  },
  {
   "cell_type": "code",
   "execution_count": 14,
   "metadata": {},
   "outputs": [],
   "source": [
    "def build_model(ml_model_type, X_train, y_train, target):\n",
    "    ml_model = load_json_results(ml_model_type)\n",
    "\n",
    "    if ml_model_type == 'tree_randomforest':\n",
    "        params = {}\n",
    "        for k,v in ml_model['best_params'].items():\n",
    "            k = k[7:]\n",
    "            params[k] = v\n",
    "        print(params)\n",
    "\n",
    "        regressor = RandomForestRegressor()\n",
    "        classifier = RandomForestClassifier()\n",
    "\n",
    "    elif ml_model_type == 'tree_xgboost':\n",
    "        params = ml_model['best_params']\n",
    "\n",
    "        regressor = XGBRegressor()\n",
    "        classifier = XGBClassifier()\n",
    "\n",
    "    if target == 'regression':\n",
    "        model = regressor\n",
    "    elif target == 'binary':\n",
    "        model = classifier\n",
    "\n",
    "    for k,v in params.items(): \n",
    "        setattr(model, k, v)\n",
    "\n",
    "    model.fit(X_train, y_train)\n",
    "    \n",
    "    return model"
   ]
  },
  {
   "cell_type": "code",
   "execution_count": 15,
   "metadata": {},
   "outputs": [],
   "source": [
    "# ml_model = 'tree_randomforest'\n",
    "ml_model = 'tree_xgboost'\n",
    "model = build_model(ml_model, transformed_dicts['X_train'], transformed_dicts['y_train'], target_type)\n",
    "y_pred = model.predict(transformed_dicts['X_test'])\n",
    "y_pred_prob = model.predict_proba(transformed_dicts['X_test'])[:, 1]"
   ]
  },
  {
   "cell_type": "markdown",
   "metadata": {},
   "source": [
    "# calculate test score \n",
    "main metric: mean squared error for regression, f1_score for binary target"
   ]
  },
  {
   "cell_type": "code",
   "execution_count": 16,
   "metadata": {},
   "outputs": [
    {
     "data": {
      "text/plain": [
       "[]"
      ]
     },
     "execution_count": 16,
     "metadata": {},
     "output_type": "execute_result"
    }
   ],
   "source": [
    "test = transformed_dicts['y_test']\n",
    "[v for v in test if v != 0.0 and v != 1.0]"
   ]
  },
  {
   "cell_type": "code",
   "execution_count": 17,
   "metadata": {},
   "outputs": [
    {
     "name": "stdout",
     "output_type": "stream",
     "text": [
      "\n",
      "CLASSIFICATION_REPORT:\n",
      "               precision    recall  f1-score   support\n",
      "\n",
      "         0.0       0.78      0.89      0.83     12384\n",
      "         1.0       0.38      0.22      0.28      3897\n",
      "\n",
      "    accuracy                           0.73     16281\n",
      "   macro avg       0.58      0.55      0.55     16281\n",
      "weighted avg       0.69      0.73      0.70     16281\n",
      "\n",
      "accuracy_score 0.728\n",
      "log_loss 9.392\n",
      "f1_score 0.699\n"
     ]
    }
   ],
   "source": [
    "if target_type == 'regression':\n",
    "    print('mean squared error:', round(mean_squared_error(transformed_dicts['y_test'], y_pred), 3))\n",
    "    print('r2_score', round(r2_score(transformed_dicts['y_test'], y_pred),3))\n",
    "    print('mean_absolute_error', round(mean_absolute_error(transformed_dicts['y_test'], y_pred),3))\n",
    "elif target_type == 'binary':\n",
    "    print(\"\\nCLASSIFICATION_REPORT:\\n\", classification_report(transformed_dicts['y_test'], y_pred))\n",
    "    print('accuracy_score', round(accuracy_score(transformed_dicts['y_test'], y_pred), 3))\n",
    "    print('log_loss', round(log_loss(transformed_dicts['y_test'], y_pred), 3))\n",
    "    print('f1_score', round(f1_score(transformed_dicts['y_test'], y_pred, average='weighted'), 3))\n",
    "#     plot_confusion_matrix(model, transformed_dicts['X_test'], transformed_dicts['y_test'],\n",
    "#                      cmap=plt.cm.Blues);"
   ]
  },
  {
   "cell_type": "markdown",
   "metadata": {},
   "source": [
    "# sample prediction\n",
    "predict first 10 entries"
   ]
  },
  {
   "cell_type": "code",
   "execution_count": 18,
   "metadata": {},
   "outputs": [
    {
     "data": {
      "text/plain": [
       "array([0., 0., 0., 1., 0., 0., 0., 1., 0., 0.])"
      ]
     },
     "execution_count": 18,
     "metadata": {},
     "output_type": "execute_result"
    }
   ],
   "source": [
    "y_pred[:10]"
   ]
  },
  {
   "cell_type": "markdown",
   "metadata": {},
   "source": [
    "# rebuild model for entire dataset"
   ]
  },
  {
   "cell_type": "code",
   "execution_count": 19,
   "metadata": {},
   "outputs": [],
   "source": [
    "X = transformed_dicts['X_train'].copy().append(transformed_dicts['X_test'])\n",
    "y = transformed_dicts['y_train'].copy()\n",
    "y.extend(transformed_dicts['y_test'])\n",
    "\n",
    "# ml_model = 'tree_randomforest'\n",
    "ml_model = 'tree_xgboost'\n",
    "final_model = build_model(ml_model, X, y, target_type)"
   ]
  },
  {
   "cell_type": "markdown",
   "metadata": {},
   "source": [
    "# save pickle of results"
   ]
  },
  {
   "cell_type": "code",
   "execution_count": 20,
   "metadata": {},
   "outputs": [],
   "source": [
    "file = os.path.join(model_outputs, 'trained_model.pkl')\n",
    "with open(file, 'wb') as f:\n",
    "    pickle.dump(final_model, f)  "
   ]
  },
  {
   "cell_type": "markdown",
   "metadata": {},
   "source": [
    "# Seção de processos decisórios"
   ]
  },
  {
   "cell_type": "markdown",
   "metadata": {},
   "source": [
    "# Ordena as entradas em ordem de maior para menor probabilidade de superar a barreira de 50k\n",
    "Recupera ID e ordena de acordo com a probabilidade.\n",
    "\n",
    "Obs: estou fazendo a estimativa apenas com a base que foi separada para teste. Se quisesse ordenar toda a base, teria que fazer k folds, por exemplo com k=3, semelhante ao que foi feito mais acima com k-fold cross-validation. O motivo disso é que eu não posso usar uma mesma base tanto para treino como para estimativa, pois isso vicia os resultados (overfitting)."
   ]
  },
  {
   "cell_type": "code",
   "execution_count": 21,
   "metadata": {},
   "outputs": [],
   "source": [
    "X_train = transformed_dicts['X_train']\n",
    "X_test = transformed_dicts['X_test']\n",
    "y_test = transformed_dicts['y_test']"
   ]
  },
  {
   "cell_type": "code",
   "execution_count": 22,
   "metadata": {},
   "outputs": [
    {
     "data": {
      "text/html": [
       "<div>\n",
       "<style scoped>\n",
       "    .dataframe tbody tr th:only-of-type {\n",
       "        vertical-align: middle;\n",
       "    }\n",
       "\n",
       "    .dataframe tbody tr th {\n",
       "        vertical-align: top;\n",
       "    }\n",
       "\n",
       "    .dataframe thead th {\n",
       "        text-align: right;\n",
       "    }\n",
       "</style>\n",
       "<table border=\"1\" class=\"dataframe\">\n",
       "  <thead>\n",
       "    <tr style=\"text-align: right;\">\n",
       "      <th></th>\n",
       "      <th>probabilidade</th>\n",
       "      <th>valor_verdadeiro</th>\n",
       "    </tr>\n",
       "    <tr>\n",
       "      <th>id</th>\n",
       "      <th></th>\n",
       "      <th></th>\n",
       "    </tr>\n",
       "  </thead>\n",
       "  <tbody>\n",
       "    <tr>\n",
       "      <th>13747</th>\n",
       "      <td>0.986509</td>\n",
       "      <td>0.0</td>\n",
       "    </tr>\n",
       "    <tr>\n",
       "      <th>2901</th>\n",
       "      <td>0.986293</td>\n",
       "      <td>1.0</td>\n",
       "    </tr>\n",
       "    <tr>\n",
       "      <th>3040</th>\n",
       "      <td>0.985857</td>\n",
       "      <td>1.0</td>\n",
       "    </tr>\n",
       "    <tr>\n",
       "      <th>16261</th>\n",
       "      <td>0.985250</td>\n",
       "      <td>1.0</td>\n",
       "    </tr>\n",
       "    <tr>\n",
       "      <th>619</th>\n",
       "      <td>0.984879</td>\n",
       "      <td>1.0</td>\n",
       "    </tr>\n",
       "  </tbody>\n",
       "</table>\n",
       "</div>"
      ],
      "text/plain": [
       "       probabilidade  valor_verdadeiro\n",
       "id                                    \n",
       "13747       0.986509               0.0\n",
       "2901        0.986293               1.0\n",
       "3040        0.985857               1.0\n",
       "16261       0.985250               1.0\n",
       "619         0.984879               1.0"
      ]
     },
     "execution_count": 22,
     "metadata": {},
     "output_type": "execute_result"
    }
   ],
   "source": [
    "index_name = X_train.index.name\n",
    "y_pred = y_pred_prob\n",
    "ordered_users = pd.DataFrame(list(zip(X_test.index, y_pred, y_test)), columns = [index_name, 'probabilidade', 'valor_verdadeiro']).set_index(index_name)\n",
    "ordered_users.sort_values(by='probabilidade', ascending=False, inplace=True)\n",
    "ordered_users.head()"
   ]
  },
  {
   "cell_type": "markdown",
   "metadata": {},
   "source": [
    "Observa número de usuários do teste e quantidade que recomprou"
   ]
  },
  {
   "cell_type": "code",
   "execution_count": 23,
   "metadata": {},
   "outputs": [
    {
     "name": "stdout",
     "output_type": "stream",
     "text": [
      "Número de usuários sendo testados: 16281\n",
      "Número de usuários que recompraram: 3897 ou 23.94% do total\n",
      "Número de usuários que não recompraram: 12384 ou 76.06% do total\n"
     ]
    }
   ],
   "source": [
    "users_total = len(ordered_users)\n",
    "users_yes = len(ordered_users[ordered_users['valor_verdadeiro'] == 1])\n",
    "users_no = users_total - users_yes\n",
    "print('Número de usuários sendo testados:', users_total)\n",
    "print('Número de usuários que recompraram:', users_yes, 'ou {}% do total'.format(round(users_yes/users_total*100, 2)))\n",
    "print('Número de usuários que não recompraram:', users_no, 'ou {}% do total'.format(round(users_no/users_total*100, 2)))"
   ]
  },
  {
   "cell_type": "markdown",
   "metadata": {},
   "source": [
    "# Análise de thresholds\n",
    "Vamos comparar alguns thresholds de probabilidades para tomada de decisão, assumindo \"1\" apenas se usuário tiver mais de um threshold de probabilidade de fazer nova compra e \"0\" caso contrário."
   ]
  },
  {
   "cell_type": "markdown",
   "metadata": {},
   "source": [
    "### Precision Recall Curve"
   ]
  },
  {
   "cell_type": "markdown",
   "metadata": {},
   "source": [
    "Sendo TP=True Positives, FP=False Positives, TN=True Negatives e FN=False Negatives:\n",
    "* Precision é dado por: $\\frac{TP}{TP+FP}$\n",
    "* Recall (sensitivity) é dado por: $\\frac{TP}{TP+FN}$\n",
    "\n",
    "FP são os casos em que o modelo classifica incorretamente como positivo casos que são na verdade negativos. Nesse problema, diria que fará nova compra alguém que na verdade não fará. Enquanto que o recall mede o quanto do total de casos de fato positivos foram corretamente capturados, precision mostra qual proporção de casos classificados como positivos pelo modelo são de fato positivos\n",
    "\n",
    "Há outras formas de mensurar efeitos ilustram a capacidade de classificação binária ao variar o threshold. Por exemplo, a curva ROC (receiver operating characteristic) demonstra o quanto de aumento no TPR (True Positive Rate) acarreta em FPR (False Positive Rate). Apesar da utilidade do gráfico, acreditamos que a curva precision-recall já seria suficiente."
   ]
  },
  {
   "cell_type": "code",
   "execution_count": 24,
   "metadata": {},
   "outputs": [
    {
     "data": {
      "image/png": "[encoded data removed]",
      "text/plain": [
       "<Figure size 432x288 with 1 Axes>"
      ]
     },
     "metadata": {
      "needs_background": "light"
     },
     "output_type": "display_data"
    }
   ],
   "source": [
    "precisions, recalls, thresholds = precision_recall_curve(y_test, y_pred)\n",
    "plt.plot([0, 1], [0, 1], 'k--')\n",
    "plt.plot(recalls, precisions)\n",
    "plt.grid()\n",
    "plt.xlabel('Recall')\n",
    "plt.ylabel('Precision')\n",
    "plt.title('Precision Recall Curve')\n",
    "plt.show()"
   ]
  },
  {
   "cell_type": "markdown",
   "metadata": {},
   "source": [
    "Pelo que podemos ver no gráfico, até um recall em torno de 0.8 (e precision em torno de 0.6), é possível aumentá-lo sem uma queda mais acentuada de precisão."
   ]
  },
  {
   "cell_type": "markdown",
   "metadata": {},
   "source": [
    "Se considerarmos um threshold de 50%, ou seja, fazer uma campanha para quem tiver a partir 50% de probabilidade de reagir à mesma, teremos uma precisão de 40% e atingiremos 22% dos usuários de interesse."
   ]
  },
  {
   "cell_type": "code",
   "execution_count": 25,
   "metadata": {},
   "outputs": [
    {
     "name": "stdout",
     "output_type": "stream",
     "text": [
      "threshold: 0.5\n",
      "precision: 0.38\n",
      "recall: 0.22\n"
     ]
    }
   ],
   "source": [
    "thres_index = np.where(thresholds>=0.5)[0][0]\n",
    "print('threshold:', round(thresholds[thres_index],2))\n",
    "print('precision:', round(precisions[thres_index],2))\n",
    "print('recall:', round(recalls[thres_index],2))"
   ]
  },
  {
   "cell_type": "markdown",
   "metadata": {},
   "source": [
    "Vamos reduzir a threshold e ver o que acontece."
   ]
  },
  {
   "cell_type": "code",
   "execution_count": 26,
   "metadata": {},
   "outputs": [
    {
     "name": "stdout",
     "output_type": "stream",
     "text": [
      "threshold: 0.15\n",
      "precision: 0.38\n",
      "recall: 0.66\n"
     ]
    }
   ],
   "source": [
    "thres_index = np.where(thresholds>=0.15)[0][0]\n",
    "print('threshold:', round(thresholds[thres_index],2))\n",
    "print('precision:', round(precisions[thres_index],2))\n",
    "print('recall:', round(recalls[thres_index],2))"
   ]
  },
  {
   "cell_type": "code",
   "execution_count": 27,
   "metadata": {},
   "outputs": [
    {
     "name": "stdout",
     "output_type": "stream",
     "text": [
      "threshold: 0.1\n",
      "precision: 0.36\n",
      "recall: 0.75\n"
     ]
    }
   ],
   "source": [
    "thres_index = np.where(thresholds>=0.1)[0][0]\n",
    "print('threshold:', round(thresholds[thres_index],2))\n",
    "print('precision:', round(precisions[thres_index],2))\n",
    "print('recall:', round(recalls[thres_index],2))"
   ]
  },
  {
   "cell_type": "markdown",
   "metadata": {},
   "source": [
    "Até aqui, nos parece fazer sentido reduzir o threshold em prol do aumento de recall."
   ]
  },
  {
   "cell_type": "code",
   "execution_count": 28,
   "metadata": {},
   "outputs": [
    {
     "name": "stdout",
     "output_type": "stream",
     "text": [
      "threshold: 0.01\n",
      "precision: 0.25\n",
      "recall: 0.99\n"
     ]
    }
   ],
   "source": [
    "thres_index = np.where(thresholds>=0.01)[0][0]\n",
    "print('threshold:', round(thresholds[thres_index],2))\n",
    "print('precision:', round(precisions[thres_index],2))\n",
    "print('recall:', round(recalls[thres_index],2))"
   ]
  },
  {
   "cell_type": "markdown",
   "metadata": {},
   "source": [
    "Ao reduzir excessivamente o threshold, aumentamos o número de usuários de interesse atingidos por campanha, mas ao custo de alta redução da precisão. Ou seja, estamos investindo muito dinheiro em muita gente que não reagirá, apesar de aumentarmos também o número de reações. Isso quer dizer que o ROI (Retorno do Investimento) tem risco de diminuir."
   ]
  },
  {
   "cell_type": "markdown",
   "metadata": {},
   "source": [
    "Vamos analisar a variação em termos absolutos de usuários atingidos por uma campanha."
   ]
  },
  {
   "cell_type": "markdown",
   "metadata": {},
   "source": [
    "### Cria listas de valores acumulados"
   ]
  },
  {
   "cell_type": "markdown",
   "metadata": {},
   "source": [
    "Listas de booleanos:\n",
    "* unique_prob: Das probabilidades duplicadas, marca \"1\" somente se for a última duplicada, para salvar a quantidade de usuários atendidos para aquela prob.\n",
    "* in_threshold: Das probabilidades, marca \"1\" se está entre os thresholds obtidos na curva precision-recall e se estiver marcado como único, marca \"1\" somente se for a última duplicada, para salvar a quantidade de usuários atendidos para aquela prob."
   ]
  },
  {
   "cell_type": "code",
   "execution_count": 29,
   "metadata": {},
   "outputs": [],
   "source": [
    "ordered_users['unique_prob'] = ~ordered_users.duplicated(subset = 'probabilidade', keep='last')\n",
    "\n",
    "ordered_users['in_threshold'] = ordered_users[ (ordered_users['unique_prob'] == True) \n",
    "                                              & (ordered_users['probabilidade'].isin(thresholds)) ].probabilidade\n",
    "\n",
    "unique_prob = ordered_users['unique_prob'].to_list()\n",
    "in_threshold = ordered_users['in_threshold'].to_list()\n",
    "ordered_users.drop(['in_threshold', 'unique_prob'], axis=1, inplace=True)"
   ]
  },
  {
   "cell_type": "markdown",
   "metadata": {},
   "source": [
    "Cria listas de valores acumulados correspondentes à lista de thresholds"
   ]
  },
  {
   "cell_type": "code",
   "execution_count": 30,
   "metadata": {},
   "outputs": [],
   "source": [
    "cum_positive = ordered_users.valor_verdadeiro.cumsum().to_list()\n",
    "\n",
    "cum_positive_filtered = []\n",
    "cum_target_users = []\n",
    "for i,val in enumerate(in_threshold):\n",
    "    if not math.isnan(val):\n",
    "        cum_value_pos = cum_positive[i]\n",
    "        cum_positive_filtered.append(cum_value_pos)\n",
    "        cum_target_users.append(i)\n",
    "        \n",
    "cum_positive_filtered = list(reversed(cum_positive_filtered))\n",
    "cum_target_users = list(reversed(cum_target_users))"
   ]
  },
  {
   "cell_type": "markdown",
   "metadata": {},
   "source": [
    "## Compara números absolutos\n",
    "Vamos usar números absolutos agora para ter uma dimensão do tamanho do investimento em termos de usuários."
   ]
  },
  {
   "cell_type": "code",
   "execution_count": 31,
   "metadata": {},
   "outputs": [],
   "source": [
    "cum_positive_filtered.append(cum_positive_filtered[-1])\n",
    "cum_target_users.append(cum_target_users[-1])"
   ]
  },
  {
   "cell_type": "code",
   "execution_count": 32,
   "metadata": {},
   "outputs": [
    {
     "data": {
      "image/png": "[encoded data removed]",
      "text/plain": [
       "<Figure size 432x288 with 1 Axes>"
      ]
     },
     "metadata": {
      "needs_background": "light"
     },
     "output_type": "display_data"
    }
   ],
   "source": [
    "plt.plot(cum_target_users, recalls)\n",
    "plt.plot(cum_target_users, precisions)\n",
    "plt.plot([0, max(cum_target_users)], [0, 1], 'k--')\n",
    "plt.grid()\n",
    "plt.legend(labels  = ['Recall', 'Precision'])\n",
    "plt.xlabel('Número de usuários')\n",
    "plt.ylabel('Score')\n",
    "plt.title('Precision e Recall por número de usuários atingidos por campanha')\n",
    "plt.show()"
   ]
  },
  {
   "cell_type": "markdown",
   "metadata": {},
   "source": [
    "### Compara resultados positivos com números absolutos em cada threshold\n",
    "Note que essa curva é idêntica ao recall, mas é agora em número absolutos em vez de proporção."
   ]
  },
  {
   "cell_type": "code",
   "execution_count": 33,
   "metadata": {},
   "outputs": [
    {
     "data": {
      "image/png": "[encoded data removed]",
      "text/plain": [
       "<Figure size 432x288 with 1 Axes>"
      ]
     },
     "metadata": {
      "needs_background": "light"
     },
     "output_type": "display_data"
    }
   ],
   "source": [
    "plt.plot(cum_target_users, cum_positive_filtered)\n",
    "plt.grid()\n",
    "plt.xlabel('Número de usuários')\n",
    "plt.ylabel('Resultados positivos')\n",
    "plt.title('Resultados positivos por número de usuários atingidos por campanha')\n",
    "plt.show()"
   ]
  },
  {
   "cell_type": "markdown",
   "metadata": {},
   "source": [
    "# Considerações finais"
   ]
  },
  {
   "cell_type": "markdown",
   "metadata": {},
   "source": [
    "Explicando em termos absolutos, se eu estivesse investindo somente nos 8000 usuários de maior probabilidade de responder à campanha, conseguiríamos 3000 novas fidelizações, mas que almejarmos aumentar esse número para 4000 (1/3 de aumento!), seria necessário mais do que dobrar esse investimento, ou seja, superar 16000 usuários compreendidos!\n",
    "\n",
    "Portanto, minha indicação seria utilizar o threshold próximo a 0.1 (10% de probabilidade de reação). Com isso, ajudamos a fidelizar uma boa quantidade de clientes, mas evitamos também um custo muito alto que reduza nosso ROI, levando em conta que consideramos um custo marginal baixo.\n",
    "\n",
    "Além disso, as equipes que possuíssem interesse em avaliar as variáveis mais importantes poderiam consultar os resultados de feature importances. "
   ]
  },
  {
   "cell_type": "code",
   "execution_count": null,
   "metadata": {},
   "outputs": [],
   "source": []
  }
 ],
 "metadata": {
  "kernelspec": {
   "display_name": "Python 3",
   "language": "python",
   "name": "python3"
  },
  "language_info": {
   "codemirror_mode": {
    "name": "ipython",
    "version": 3
   },
   "file_extension": ".py",
   "mimetype": "text/x-python",
   "name": "python",
   "nbconvert_exporter": "python",
   "pygments_lexer": "ipython3",
   "version": "3.7.5"
  }
 },
 "nbformat": 4,
 "nbformat_minor": 4
}
