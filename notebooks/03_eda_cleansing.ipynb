{
 "cells": [
  {
   "cell_type": "markdown",
   "metadata": {},
   "source": [
    "# EDA + Data Cleansing"
   ]
  },
  {
   "cell_type": "code",
   "execution_count": 196,
   "metadata": {},
   "outputs": [],
   "source": [
    "import os\n",
    "import re\n",
    "import sys\n",
    "import warnings\n",
    "\n",
    "import matplotlib.pyplot as plt\n",
    "import numpy as np\n",
    "import pandas as pd\n",
    "import pickle as pkl\n",
    "import seaborn as sns\n",
    "from impyute.imputation.cs import fast_knn\n",
    "from sklearn.ensemble import IsolationForest\n",
    "from sklearn.preprocessing import StandardScaler\n",
    "from scipy import stats\n",
    "\n",
    "# %matplotlib inline\n",
    "warnings.filterwarnings('ignore')"
   ]
  },
  {
   "cell_type": "code",
   "execution_count": 197,
   "metadata": {},
   "outputs": [],
   "source": [
    "sys.path.append(os.path.join('..', 'src'))"
   ]
  },
  {
   "cell_type": "code",
   "execution_count": 198,
   "metadata": {},
   "outputs": [],
   "source": [
    "import importlib\n",
    "import utils, params\n",
    "importlib.reload(utils)\n",
    "from utils import capture_data\n",
    "\n",
    "importlib.reload(params)\n",
    "from params import ProjectParameters"
   ]
  },
  {
   "cell_type": "markdown",
   "metadata": {},
   "source": [
    "# set image building to True/False\n",
    "* if build_images == False: faster to run, but images won't be generated"
   ]
  },
  {
   "cell_type": "code",
   "execution_count": 199,
   "metadata": {},
   "outputs": [],
   "source": [
    "build_images = False"
   ]
  },
  {
   "cell_type": "markdown",
   "metadata": {},
   "source": [
    "# define functions"
   ]
  },
  {
   "cell_type": "code",
   "execution_count": 200,
   "metadata": {},
   "outputs": [],
   "source": [
    "def get_numerical_mask(df):\n",
    "    type_mask = []\n",
    "    for i in df.dtypes:\n",
    "        if str(i).startswith('float') or str(i).startswith('int'): # or str(i).startswith('bool')\n",
    "            type_mask.append(True)\n",
    "        else: type_mask.append(False)\n",
    "    num_cols = list(np.array(df.columns)[type_mask])\n",
    "    other_cols = list(np.array(df.columns)[[not elem for elem in type_mask]])\n",
    "    \n",
    "    return num_cols, other_cols"
   ]
  },
  {
   "cell_type": "markdown",
   "metadata": {},
   "source": [
    "### functions related to missing data"
   ]
  },
  {
   "cell_type": "code",
   "execution_count": 201,
   "metadata": {},
   "outputs": [],
   "source": [
    "def get_missing(df):\n",
    "    total = df.isnull().sum()\n",
    "    percent = (df.isnull().sum()/df.isnull().count())\n",
    "    missing_data = pd.concat([total, percent], axis=1, keys=['total', 'percent_missing'])\n",
    "    \n",
    "    return missing_data\n",
    "\n",
    "def drop_missing_from_threshold(df, row_threshold, col_threshold):\n",
    "    row_count, col_count = df.shape\n",
    "    # drop columns according to threshold of missing\n",
    "    # use mask of columns which have less missing than threshold\n",
    "    df = df.iloc[:, (df_missing['percent_missing'] < col_threshold).to_list()]\n",
    "    \n",
    "    # drop row according to threshold of missing\n",
    "    n_cols = df.shape[1]\n",
    "    df['ratio_mis'] = df.apply(lambda x: (n_cols - x.count())/n_cols, axis=1)\n",
    "    df = df[df['ratio_mis']<row_threshold]\n",
    "    df.drop(['ratio_mis'], axis=1, inplace=True)\n",
    "    \n",
    "    # count number of removals\n",
    "    row_count_new, col_count_new = df.shape\n",
    "    row_count_removal = row_count - row_count_new\n",
    "    col_count_removal = col_count - col_count_new\n",
    "    print('{} rows and {} columns were removed from database'.format(row_count_removal, col_count_removal))\n",
    "    \n",
    "    return df\n",
    "\n",
    "def apply_imputation(df, method = 'knn', k=30):\n",
    "    if method == 'knn':\n",
    "        sys.setrecursionlimit(100000) #Increase the recursion limit of the OS\n",
    "        numerical_cols, other_cols = get_numerical_mask(df)\n",
    "        \n",
    "#         df =  StandardScaler().fit_transform(df) # scale for knn to work properly (it's distance based)\n",
    "\n",
    "        # start the KNN training\n",
    "        imputed_training = fast_knn(df, k=30)\n",
    "\n",
    "        # retrieve column names\n",
    "        imp_cols = imputed_training.columns.to_list()\n",
    "        imputed_training.rename({imp_cols[i]: numerical_cols[i] for i in range(len(imp_cols))}, axis = 1, inplace=True)\n",
    "        df = df[other_cols].merge(imputed_training, left_index=True, right_index=True)\n",
    "        \n",
    "    elif method == 'mode':\n",
    "        df.fillna(data.mode().iloc[0], inplace=True)\n",
    "        \n",
    "    elif method == 'median':\n",
    "        df.fillna(df.median(), inplace=True)\n",
    "\n",
    "    elif method == -1:\n",
    "        df.fillna(-1, inplace=True)\n",
    "        \n",
    "    else:\n",
    "        print('error: select a correct method for imputation')\n",
    "        \n",
    "    return df"
   ]
  },
  {
   "cell_type": "markdown",
   "metadata": {},
   "source": [
    "### functions related to outliers"
   ]
  },
  {
   "cell_type": "code",
   "execution_count": 202,
   "metadata": {},
   "outputs": [],
   "source": [
    "def apply_standard_deviation_tol(df, tol=3):\n",
    "    #scale data for operation\n",
    "    df = pd.DataFrame(StandardScaler().fit_transform(df[numerical_cols]))\n",
    "    \n",
    "    z = np.abs(stats.zscore(df))\n",
    "    z = pd.DataFrame(z, columns = df.columns, index=df.index)\n",
    "    z.fillna(0, inplace=True)\n",
    "    for col in z.columns[2:]:\n",
    "        z = z[z[col]<tol]\n",
    "    print(\"{0:.2%} of data was removed after dealing with outliers\".format((df.shape[0]-z.shape[0])/df.shape[0]))\n",
    "    df = df.loc[z.index, :]\n",
    "    \n",
    "    return df\n",
    "\n",
    "def apply_isolation_forest(df, contamination=0.05):\n",
    "    clf = IsolationForest(max_samples='auto', contamination=contamination, random_state=42) # contamination='auto' or 0.05\n",
    "    clf.fit(df)\n",
    "\n",
    "    outlier_pred = clf.predict(df)\n",
    "    print('number of outliers:', np.count_nonzero(outlier_pred == -1), 'from a total of {}'.format(len(outlier_pred)))\n",
    "    print('percentage of outliers: {0:.0%}'.format(np.count_nonzero(outlier_pred == -1)/np.count_nonzero(outlier_pred == 1)))\n",
    "\n",
    "    df['outlier'] = outlier_pred\n",
    "    df = df[df['outlier'] == 1]\n",
    "    df.drop(['outlier'], axis=1, inplace=True)\n",
    "    \n",
    "    return df\n",
    "\n",
    "def remove_outliers(df, cols, method = 'isolation_forest', if_contamination = 0.05, z_tol = 3):\n",
    "    # separate numerical data for treatment\n",
    "    df_filtered = df[cols]\n",
    "    \n",
    "    if method == 'isolation_forest':\n",
    "        df_filtered = apply_isolation_forest(df_filtered, if_contamination)\n",
    "    elif method == 'standard_deviation_tol':\n",
    "        df_filtered = apply_standard_deviation_tol(df_filtered, z_tol)\n",
    "    \n",
    "    # reintegrate filtered numerical data into full dataset\n",
    "    df_filtered.merge(df, how = 'inner', left_index=True, right_index=True)\n",
    "    print(len(df_filtered))\n",
    "    \n",
    "    return df_filtered"
   ]
  },
  {
   "cell_type": "markdown",
   "metadata": {},
   "source": [
    "# Define paths and capture data"
   ]
  },
  {
   "cell_type": "code",
   "execution_count": 203,
   "metadata": {},
   "outputs": [],
   "source": [
    "inputs = os.path.join('..', 'data', '02_intermediate')\n",
    "outputs = os.path.join('..', 'data', '02_intermediate')\n",
    "reports = os.path.join('..', 'data', '06_reporting')\n",
    "\n",
    "# file = 'X_train.csv'\n",
    "# y_file = 'y_train.csv'\n",
    "# data = pd.read_csv(os.path.join(inputs, file), index_col='id')\n",
    "# y_train = pd.read_csv(os.path.join(inputs, y_file), index_col='id')"
   ]
  },
  {
   "cell_type": "code",
   "execution_count": 204,
   "metadata": {},
   "outputs": [],
   "source": [
    "data               = capture_data(inputs, 'X_train.csv')\n",
    "data_test          = capture_data(inputs, 'X_test.csv')\n",
    "y_train               = capture_data(inputs, 'y_train.csv')\n",
    "y_test          = capture_data(inputs, 'y_test.csv')"
   ]
  },
  {
   "cell_type": "code",
   "execution_count": 205,
   "metadata": {},
   "outputs": [
    {
     "name": "stdout",
     "output_type": "stream",
     "text": [
      "Dataset dimensions: (5000, 13)\n"
     ]
    },
    {
     "data": {
      "text/html": [
       "<div>\n",
       "<style scoped>\n",
       "    .dataframe tbody tr th:only-of-type {\n",
       "        vertical-align: middle;\n",
       "    }\n",
       "\n",
       "    .dataframe tbody tr th {\n",
       "        vertical-align: top;\n",
       "    }\n",
       "\n",
       "    .dataframe thead th {\n",
       "        text-align: right;\n",
       "    }\n",
       "</style>\n",
       "<table border=\"1\" class=\"dataframe\">\n",
       "  <thead>\n",
       "    <tr style=\"text-align: right;\">\n",
       "      <th></th>\n",
       "      <th>age</th>\n",
       "      <th>workclass</th>\n",
       "      <th>education</th>\n",
       "      <th>education_num</th>\n",
       "      <th>marital_status</th>\n",
       "      <th>occupation</th>\n",
       "      <th>relationship</th>\n",
       "      <th>race</th>\n",
       "      <th>sex</th>\n",
       "      <th>capital_gain</th>\n",
       "      <th>capital_loss</th>\n",
       "      <th>hours_per_week</th>\n",
       "      <th>native_country</th>\n",
       "    </tr>\n",
       "    <tr>\n",
       "      <th>id</th>\n",
       "      <th></th>\n",
       "      <th></th>\n",
       "      <th></th>\n",
       "      <th></th>\n",
       "      <th></th>\n",
       "      <th></th>\n",
       "      <th></th>\n",
       "      <th></th>\n",
       "      <th></th>\n",
       "      <th></th>\n",
       "      <th></th>\n",
       "      <th></th>\n",
       "      <th></th>\n",
       "    </tr>\n",
       "  </thead>\n",
       "  <tbody>\n",
       "    <tr>\n",
       "      <th>14160</th>\n",
       "      <td>27</td>\n",
       "      <td>Private</td>\n",
       "      <td>Some-college</td>\n",
       "      <td>10</td>\n",
       "      <td>Divorced</td>\n",
       "      <td>Adm-clerical</td>\n",
       "      <td>Not-in-family</td>\n",
       "      <td>White</td>\n",
       "      <td>Female</td>\n",
       "      <td>0</td>\n",
       "      <td>0</td>\n",
       "      <td>38</td>\n",
       "      <td>United-States</td>\n",
       "    </tr>\n",
       "    <tr>\n",
       "      <th>27048</th>\n",
       "      <td>45</td>\n",
       "      <td>State-gov</td>\n",
       "      <td>HS-grad</td>\n",
       "      <td>9</td>\n",
       "      <td>Married-civ-spouse</td>\n",
       "      <td>Exec-managerial</td>\n",
       "      <td>Wife</td>\n",
       "      <td>White</td>\n",
       "      <td>Female</td>\n",
       "      <td>0</td>\n",
       "      <td>0</td>\n",
       "      <td>40</td>\n",
       "      <td>United-States</td>\n",
       "    </tr>\n",
       "    <tr>\n",
       "      <th>28868</th>\n",
       "      <td>29</td>\n",
       "      <td>Private</td>\n",
       "      <td>Bachelors</td>\n",
       "      <td>13</td>\n",
       "      <td>Married-civ-spouse</td>\n",
       "      <td>Exec-managerial</td>\n",
       "      <td>Husband</td>\n",
       "      <td>Black</td>\n",
       "      <td>Male</td>\n",
       "      <td>0</td>\n",
       "      <td>0</td>\n",
       "      <td>55</td>\n",
       "      <td>United-States</td>\n",
       "    </tr>\n",
       "    <tr>\n",
       "      <th>5667</th>\n",
       "      <td>30</td>\n",
       "      <td>Private</td>\n",
       "      <td>Bachelors</td>\n",
       "      <td>13</td>\n",
       "      <td>Never-married</td>\n",
       "      <td>Machine-op-inspct</td>\n",
       "      <td>Not-in-family</td>\n",
       "      <td>White</td>\n",
       "      <td>Female</td>\n",
       "      <td>0</td>\n",
       "      <td>0</td>\n",
       "      <td>40</td>\n",
       "      <td>United-States</td>\n",
       "    </tr>\n",
       "    <tr>\n",
       "      <th>7827</th>\n",
       "      <td>29</td>\n",
       "      <td>Self-emp-not-inc</td>\n",
       "      <td>Some-college</td>\n",
       "      <td>10</td>\n",
       "      <td>Divorced</td>\n",
       "      <td>Craft-repair</td>\n",
       "      <td>Not-in-family</td>\n",
       "      <td>White</td>\n",
       "      <td>Male</td>\n",
       "      <td>2202</td>\n",
       "      <td>0</td>\n",
       "      <td>50</td>\n",
       "      <td>United-States</td>\n",
       "    </tr>\n",
       "  </tbody>\n",
       "</table>\n",
       "</div>"
      ],
      "text/plain": [
       "       age         workclass     education  education_num      marital_status  \\\n",
       "id                                                                              \n",
       "14160   27           Private  Some-college             10            Divorced   \n",
       "27048   45         State-gov       HS-grad              9  Married-civ-spouse   \n",
       "28868   29           Private     Bachelors             13  Married-civ-spouse   \n",
       "5667    30           Private     Bachelors             13       Never-married   \n",
       "7827    29  Self-emp-not-inc  Some-college             10            Divorced   \n",
       "\n",
       "              occupation   relationship   race     sex  capital_gain  \\\n",
       "id                                                                     \n",
       "14160       Adm-clerical  Not-in-family  White  Female             0   \n",
       "27048    Exec-managerial           Wife  White  Female             0   \n",
       "28868    Exec-managerial        Husband  Black    Male             0   \n",
       "5667   Machine-op-inspct  Not-in-family  White  Female             0   \n",
       "7827        Craft-repair  Not-in-family  White    Male          2202   \n",
       "\n",
       "       capital_loss  hours_per_week native_country  \n",
       "id                                                  \n",
       "14160             0              38  United-States  \n",
       "27048             0              40  United-States  \n",
       "28868             0              55  United-States  \n",
       "5667              0              40  United-States  \n",
       "7827              0              50  United-States  "
      ]
     },
     "execution_count": 205,
     "metadata": {},
     "output_type": "execute_result"
    }
   ],
   "source": [
    "print('Dataset dimensions:', data.shape)\n",
    "data.head()"
   ]
  },
  {
   "cell_type": "markdown",
   "metadata": {},
   "source": [
    "# numerical columns\n",
    "numerical columns are: ['age', 'education_num', 'capital_gain', 'capital_loss', 'hours_per_week']"
   ]
  },
  {
   "cell_type": "code",
   "execution_count": 206,
   "metadata": {},
   "outputs": [],
   "source": [
    "numerical_cols = ProjectParameters().numerical_cols"
   ]
  },
  {
   "cell_type": "markdown",
   "metadata": {},
   "source": [
    "# Checking  for possible anomalies in the database"
   ]
  },
  {
   "cell_type": "code",
   "execution_count": 207,
   "metadata": {
    "scrolled": false
   },
   "outputs": [
    {
     "data": {
      "text/html": [
       "<div>\n",
       "<style scoped>\n",
       "    .dataframe tbody tr th:only-of-type {\n",
       "        vertical-align: middle;\n",
       "    }\n",
       "\n",
       "    .dataframe tbody tr th {\n",
       "        vertical-align: top;\n",
       "    }\n",
       "\n",
       "    .dataframe thead th {\n",
       "        text-align: right;\n",
       "    }\n",
       "</style>\n",
       "<table border=\"1\" class=\"dataframe\">\n",
       "  <thead>\n",
       "    <tr style=\"text-align: right;\">\n",
       "      <th></th>\n",
       "      <th>age</th>\n",
       "      <th>education_num</th>\n",
       "      <th>capital_gain</th>\n",
       "      <th>capital_loss</th>\n",
       "      <th>hours_per_week</th>\n",
       "    </tr>\n",
       "  </thead>\n",
       "  <tbody>\n",
       "    <tr>\n",
       "      <th>count</th>\n",
       "      <td>5000.000000</td>\n",
       "      <td>5000.000000</td>\n",
       "      <td>5000.000000</td>\n",
       "      <td>5000.000000</td>\n",
       "      <td>5000.00000</td>\n",
       "    </tr>\n",
       "    <tr>\n",
       "      <th>mean</th>\n",
       "      <td>38.793600</td>\n",
       "      <td>10.065000</td>\n",
       "      <td>1130.159400</td>\n",
       "      <td>87.180000</td>\n",
       "      <td>40.67960</td>\n",
       "    </tr>\n",
       "    <tr>\n",
       "      <th>std</th>\n",
       "      <td>13.688304</td>\n",
       "      <td>2.555246</td>\n",
       "      <td>7583.026928</td>\n",
       "      <td>406.812837</td>\n",
       "      <td>12.26164</td>\n",
       "    </tr>\n",
       "    <tr>\n",
       "      <th>min</th>\n",
       "      <td>17.000000</td>\n",
       "      <td>1.000000</td>\n",
       "      <td>0.000000</td>\n",
       "      <td>0.000000</td>\n",
       "      <td>1.00000</td>\n",
       "    </tr>\n",
       "    <tr>\n",
       "      <th>25%</th>\n",
       "      <td>28.000000</td>\n",
       "      <td>9.000000</td>\n",
       "      <td>0.000000</td>\n",
       "      <td>0.000000</td>\n",
       "      <td>40.00000</td>\n",
       "    </tr>\n",
       "    <tr>\n",
       "      <th>50%</th>\n",
       "      <td>37.000000</td>\n",
       "      <td>10.000000</td>\n",
       "      <td>0.000000</td>\n",
       "      <td>0.000000</td>\n",
       "      <td>40.00000</td>\n",
       "    </tr>\n",
       "    <tr>\n",
       "      <th>75%</th>\n",
       "      <td>48.000000</td>\n",
       "      <td>12.000000</td>\n",
       "      <td>0.000000</td>\n",
       "      <td>0.000000</td>\n",
       "      <td>45.00000</td>\n",
       "    </tr>\n",
       "    <tr>\n",
       "      <th>max</th>\n",
       "      <td>90.000000</td>\n",
       "      <td>16.000000</td>\n",
       "      <td>99999.000000</td>\n",
       "      <td>4356.000000</td>\n",
       "      <td>99.00000</td>\n",
       "    </tr>\n",
       "  </tbody>\n",
       "</table>\n",
       "</div>"
      ],
      "text/plain": [
       "               age  education_num  capital_gain  capital_loss  hours_per_week\n",
       "count  5000.000000    5000.000000   5000.000000   5000.000000      5000.00000\n",
       "mean     38.793600      10.065000   1130.159400     87.180000        40.67960\n",
       "std      13.688304       2.555246   7583.026928    406.812837        12.26164\n",
       "min      17.000000       1.000000      0.000000      0.000000         1.00000\n",
       "25%      28.000000       9.000000      0.000000      0.000000        40.00000\n",
       "50%      37.000000      10.000000      0.000000      0.000000        40.00000\n",
       "75%      48.000000      12.000000      0.000000      0.000000        45.00000\n",
       "max      90.000000      16.000000  99999.000000   4356.000000        99.00000"
      ]
     },
     "execution_count": 207,
     "metadata": {},
     "output_type": "execute_result"
    }
   ],
   "source": [
    "data.describe()"
   ]
  },
  {
   "cell_type": "markdown",
   "metadata": {},
   "source": [
    "# missing data\n",
    "usually, missing data is solved by filling it with some metric such as median. If the number of missing data in some entry is too high, we must evaluate for the removal of those entries.\n",
    "For categorical with missing data, if you want to encode missing values, first change its type to a string:\n",
    "```python\n",
    "a[pd.isnull(a)]  = 'NaN'\n",
    "```\n",
    "Some refs:\n",
    "* https://stackoverflow.com/questions/36808434/label-encoder-encoding-missing-values\n",
    "\n",
    "About the missing values, we can't assume beforehand if those are Missing at Random (MAR) or Missing not at Random (MNAR). Further investigation would be necessary to properly decide over how to handle it.\n",
    "\n",
    "For now, I am assuming they are Missing at Random. So I will remove some of them through a threshold, and apply imputation for the rest. By applying a proper imputation I observed a slight improvement over the score."
   ]
  },
  {
   "cell_type": "markdown",
   "metadata": {},
   "source": [
    "### drop columns and rows for threshold of missing"
   ]
  },
  {
   "cell_type": "code",
   "execution_count": 208,
   "metadata": {
    "scrolled": true
   },
   "outputs": [
    {
     "name": "stdout",
     "output_type": "stream",
     "text": [
      "SORTED LIST OF MISSING VALUES\n"
     ]
    },
    {
     "data": {
      "text/html": [
       "<div>\n",
       "<style scoped>\n",
       "    .dataframe tbody tr th:only-of-type {\n",
       "        vertical-align: middle;\n",
       "    }\n",
       "\n",
       "    .dataframe tbody tr th {\n",
       "        vertical-align: top;\n",
       "    }\n",
       "\n",
       "    .dataframe thead th {\n",
       "        text-align: right;\n",
       "    }\n",
       "</style>\n",
       "<table border=\"1\" class=\"dataframe\">\n",
       "  <thead>\n",
       "    <tr style=\"text-align: right;\">\n",
       "      <th></th>\n",
       "      <th>total</th>\n",
       "      <th>percent_missing</th>\n",
       "    </tr>\n",
       "  </thead>\n",
       "  <tbody>\n",
       "    <tr>\n",
       "      <th>workclass</th>\n",
       "      <td>316</td>\n",
       "      <td>0.0632</td>\n",
       "    </tr>\n",
       "    <tr>\n",
       "      <th>occupation</th>\n",
       "      <td>316</td>\n",
       "      <td>0.0632</td>\n",
       "    </tr>\n",
       "    <tr>\n",
       "      <th>native_country</th>\n",
       "      <td>95</td>\n",
       "      <td>0.0190</td>\n",
       "    </tr>\n",
       "    <tr>\n",
       "      <th>age</th>\n",
       "      <td>0</td>\n",
       "      <td>0.0000</td>\n",
       "    </tr>\n",
       "    <tr>\n",
       "      <th>education</th>\n",
       "      <td>0</td>\n",
       "      <td>0.0000</td>\n",
       "    </tr>\n",
       "    <tr>\n",
       "      <th>education_num</th>\n",
       "      <td>0</td>\n",
       "      <td>0.0000</td>\n",
       "    </tr>\n",
       "    <tr>\n",
       "      <th>marital_status</th>\n",
       "      <td>0</td>\n",
       "      <td>0.0000</td>\n",
       "    </tr>\n",
       "    <tr>\n",
       "      <th>relationship</th>\n",
       "      <td>0</td>\n",
       "      <td>0.0000</td>\n",
       "    </tr>\n",
       "    <tr>\n",
       "      <th>race</th>\n",
       "      <td>0</td>\n",
       "      <td>0.0000</td>\n",
       "    </tr>\n",
       "    <tr>\n",
       "      <th>sex</th>\n",
       "      <td>0</td>\n",
       "      <td>0.0000</td>\n",
       "    </tr>\n",
       "    <tr>\n",
       "      <th>capital_gain</th>\n",
       "      <td>0</td>\n",
       "      <td>0.0000</td>\n",
       "    </tr>\n",
       "    <tr>\n",
       "      <th>capital_loss</th>\n",
       "      <td>0</td>\n",
       "      <td>0.0000</td>\n",
       "    </tr>\n",
       "    <tr>\n",
       "      <th>hours_per_week</th>\n",
       "      <td>0</td>\n",
       "      <td>0.0000</td>\n",
       "    </tr>\n",
       "  </tbody>\n",
       "</table>\n",
       "</div>"
      ],
      "text/plain": [
       "                total  percent_missing\n",
       "workclass         316           0.0632\n",
       "occupation        316           0.0632\n",
       "native_country     95           0.0190\n",
       "age                 0           0.0000\n",
       "education           0           0.0000\n",
       "education_num       0           0.0000\n",
       "marital_status      0           0.0000\n",
       "relationship        0           0.0000\n",
       "race                0           0.0000\n",
       "sex                 0           0.0000\n",
       "capital_gain        0           0.0000\n",
       "capital_loss        0           0.0000\n",
       "hours_per_week      0           0.0000"
      ]
     },
     "execution_count": 208,
     "metadata": {},
     "output_type": "execute_result"
    }
   ],
   "source": [
    "print('SORTED LIST OF MISSING VALUES')\n",
    "df_missing = get_missing(data)\n",
    "df_missing.sort_values(by='percent_missing', ascending=False).head(20)"
   ]
  },
  {
   "cell_type": "code",
   "execution_count": 209,
   "metadata": {},
   "outputs": [],
   "source": [
    "col_mis_threshold = 0.8\n",
    "row_mis_threshold = 0.2"
   ]
  },
  {
   "cell_type": "code",
   "execution_count": 210,
   "metadata": {},
   "outputs": [
    {
     "name": "stdout",
     "output_type": "stream",
     "text": [
      "5 rows and 0 columns were removed from database\n"
     ]
    }
   ],
   "source": [
    "data = drop_missing_from_threshold(data, row_mis_threshold, col_mis_threshold)"
   ]
  },
  {
   "cell_type": "markdown",
   "metadata": {},
   "source": [
    "### visualize some rows with missing\n",
    "we already know that the critical columns are 'workclass', 'occupation' and 'native_country'"
   ]
  },
  {
   "cell_type": "code",
   "execution_count": 211,
   "metadata": {},
   "outputs": [
    {
     "name": "stdout",
     "output_type": "stream",
     "text": [
      "number of missing:  401\n"
     ]
    },
    {
     "data": {
      "text/html": [
       "<div>\n",
       "<style scoped>\n",
       "    .dataframe tbody tr th:only-of-type {\n",
       "        vertical-align: middle;\n",
       "    }\n",
       "\n",
       "    .dataframe tbody tr th {\n",
       "        vertical-align: top;\n",
       "    }\n",
       "\n",
       "    .dataframe thead th {\n",
       "        text-align: right;\n",
       "    }\n",
       "</style>\n",
       "<table border=\"1\" class=\"dataframe\">\n",
       "  <thead>\n",
       "    <tr style=\"text-align: right;\">\n",
       "      <th></th>\n",
       "      <th>age</th>\n",
       "      <th>workclass</th>\n",
       "      <th>education</th>\n",
       "      <th>education_num</th>\n",
       "      <th>marital_status</th>\n",
       "      <th>occupation</th>\n",
       "      <th>relationship</th>\n",
       "      <th>race</th>\n",
       "      <th>sex</th>\n",
       "      <th>capital_gain</th>\n",
       "      <th>capital_loss</th>\n",
       "      <th>hours_per_week</th>\n",
       "      <th>native_country</th>\n",
       "    </tr>\n",
       "    <tr>\n",
       "      <th>id</th>\n",
       "      <th></th>\n",
       "      <th></th>\n",
       "      <th></th>\n",
       "      <th></th>\n",
       "      <th></th>\n",
       "      <th></th>\n",
       "      <th></th>\n",
       "      <th></th>\n",
       "      <th></th>\n",
       "      <th></th>\n",
       "      <th></th>\n",
       "      <th></th>\n",
       "      <th></th>\n",
       "    </tr>\n",
       "  </thead>\n",
       "  <tbody>\n",
       "    <tr>\n",
       "      <th>21666</th>\n",
       "      <td>18</td>\n",
       "      <td>NaN</td>\n",
       "      <td>10th</td>\n",
       "      <td>6</td>\n",
       "      <td>Never-married</td>\n",
       "      <td>NaN</td>\n",
       "      <td>Own-child</td>\n",
       "      <td>White</td>\n",
       "      <td>Female</td>\n",
       "      <td>0</td>\n",
       "      <td>0</td>\n",
       "      <td>30</td>\n",
       "      <td>United-States</td>\n",
       "    </tr>\n",
       "    <tr>\n",
       "      <th>19311</th>\n",
       "      <td>21</td>\n",
       "      <td>NaN</td>\n",
       "      <td>Some-college</td>\n",
       "      <td>10</td>\n",
       "      <td>Never-married</td>\n",
       "      <td>NaN</td>\n",
       "      <td>Own-child</td>\n",
       "      <td>White</td>\n",
       "      <td>Male</td>\n",
       "      <td>0</td>\n",
       "      <td>0</td>\n",
       "      <td>40</td>\n",
       "      <td>United-States</td>\n",
       "    </tr>\n",
       "    <tr>\n",
       "      <th>15286</th>\n",
       "      <td>70</td>\n",
       "      <td>NaN</td>\n",
       "      <td>Assoc-voc</td>\n",
       "      <td>11</td>\n",
       "      <td>Never-married</td>\n",
       "      <td>NaN</td>\n",
       "      <td>Not-in-family</td>\n",
       "      <td>White</td>\n",
       "      <td>Male</td>\n",
       "      <td>0</td>\n",
       "      <td>0</td>\n",
       "      <td>30</td>\n",
       "      <td>United-States</td>\n",
       "    </tr>\n",
       "    <tr>\n",
       "      <th>32088</th>\n",
       "      <td>21</td>\n",
       "      <td>NaN</td>\n",
       "      <td>HS-grad</td>\n",
       "      <td>9</td>\n",
       "      <td>Never-married</td>\n",
       "      <td>NaN</td>\n",
       "      <td>Other-relative</td>\n",
       "      <td>Asian-Pac-Islander</td>\n",
       "      <td>Female</td>\n",
       "      <td>0</td>\n",
       "      <td>0</td>\n",
       "      <td>24</td>\n",
       "      <td>United-States</td>\n",
       "    </tr>\n",
       "    <tr>\n",
       "      <th>24923</th>\n",
       "      <td>68</td>\n",
       "      <td>Private</td>\n",
       "      <td>Masters</td>\n",
       "      <td>14</td>\n",
       "      <td>Married-civ-spouse</td>\n",
       "      <td>Prof-specialty</td>\n",
       "      <td>Husband</td>\n",
       "      <td>White</td>\n",
       "      <td>Male</td>\n",
       "      <td>0</td>\n",
       "      <td>0</td>\n",
       "      <td>18</td>\n",
       "      <td>NaN</td>\n",
       "    </tr>\n",
       "  </tbody>\n",
       "</table>\n",
       "</div>"
      ],
      "text/plain": [
       "       age workclass     education  education_num      marital_status  \\\n",
       "id                                                                      \n",
       "21666   18       NaN          10th              6       Never-married   \n",
       "19311   21       NaN  Some-college             10       Never-married   \n",
       "15286   70       NaN     Assoc-voc             11       Never-married   \n",
       "32088   21       NaN       HS-grad              9       Never-married   \n",
       "24923   68   Private       Masters             14  Married-civ-spouse   \n",
       "\n",
       "           occupation    relationship                race     sex  \\\n",
       "id                                                                  \n",
       "21666             NaN       Own-child               White  Female   \n",
       "19311             NaN       Own-child               White    Male   \n",
       "15286             NaN   Not-in-family               White    Male   \n",
       "32088             NaN  Other-relative  Asian-Pac-Islander  Female   \n",
       "24923  Prof-specialty         Husband               White    Male   \n",
       "\n",
       "       capital_gain  capital_loss  hours_per_week native_country  \n",
       "id                                                                \n",
       "21666             0             0              30  United-States  \n",
       "19311             0             0              40  United-States  \n",
       "15286             0             0              30  United-States  \n",
       "32088             0             0              24  United-States  \n",
       "24923             0             0              18            NaN  "
      ]
     },
     "execution_count": 211,
     "metadata": {},
     "output_type": "execute_result"
    }
   ],
   "source": [
    "print('number of missing: ', data[data.isna().any(axis=1)].shape[0])\n",
    "data[data.isna().any(axis=1)].tail()"
   ]
  },
  {
   "cell_type": "markdown",
   "metadata": {},
   "source": [
    "### imputation of missing values\n",
    "For continuous values, I would prefer knn over median, but it depends on normalized dataset. Nevertheless, we don't have missing on continuous datasets, even though we could encode categorical data. But the encoding step wasn't organized to precede this notebook, so I will stick to 'mode', which imputes the most frequent value.\n",
    "\n",
    "Some refs:\n",
    "* https://jamesrledoux.com/code/imputation#:~:text=One%20approach%20to%20imputing%20categorical,given%20in%20Pandas'%20value_counts%20function."
   ]
  },
  {
   "cell_type": "markdown",
   "metadata": {},
   "source": [
    "the apply_imputation function accepts the following methods: knn, median, mode, or -1 (impute as category -1 [for categorical vars])"
   ]
  },
  {
   "cell_type": "code",
   "execution_count": 212,
   "metadata": {},
   "outputs": [],
   "source": [
    "numerical_cols, other_cols = get_numerical_mask(data)"
   ]
  },
  {
   "cell_type": "code",
   "execution_count": 213,
   "metadata": {},
   "outputs": [
    {
     "name": "stdout",
     "output_type": "stream",
     "text": [
      "number of missing after imputation step: 0\n"
     ]
    }
   ],
   "source": [
    "# imputation over numerical variables\n",
    "\n",
    "data[numerical_cols] = data[numerical_cols].astype(float)\n",
    "if data[numerical_cols].isnull().values.any():\n",
    "    data[numerical_cols] = apply_imputation(data[numerical_cols], method = 'knn', k = 30)\n",
    "\n",
    "# imputation over categorical variables\n",
    "if data[other_cols].isnull().values.any():\n",
    "    data[other_cols] = apply_imputation(data[other_cols], method = 'mode', k = 30)\n",
    "\n",
    "print('number of missing after imputation step:', data[data.isna().any(axis=1)].shape[0])"
   ]
  },
  {
   "cell_type": "code",
   "execution_count": 214,
   "metadata": {},
   "outputs": [],
   "source": [
    "# imputation over numerical variables\n",
    "data_test[numerical_cols] = data_test[numerical_cols].astype(float)\n",
    "if 'NaN' in data_test[numerical_cols].values:\n",
    "    data_test[numerical_cols] = apply_imputation(data_test[numerical_cols], method = 'knn', k = 30)\n",
    "\n",
    "# imputation over categorical variables\n",
    "if data_test[other_cols].isnull().values.any():\n",
    "    data_test[other_cols] = apply_imputation(data_test[other_cols], method = 'mode', k = 30)"
   ]
  },
  {
   "cell_type": "markdown",
   "metadata": {},
   "source": [
    "# outlier removal\n",
    "remove outliers from choosing one of the following methods: isolation_forest, standard_deviation_tol (using z_score on standardized version)\n",
    "\n",
    "other parameters are:\n",
    "* if_contamination: isolation forest level of contamination\n",
    "* z_tol: tolerance for standard deviation (if using zscore)\n",
    "\n",
    "some interesting refs:\n",
    "* https://towardsdatascience.com/ways-to-detect-and-remove-the-outliers-404d16608dba\n",
    "* https://towardsdatascience.com/anomaly-detection-with-isolation-forest-visualization-23cd75c281e2\n",
    "* https://towardsdatascience.com/outlier-detection-with-isolation-forest-3d190448d45e"
   ]
  },
  {
   "cell_type": "raw",
   "metadata": {},
   "source": [
    "data = remove_outliers(data, numerical_cols, method = 'isolation_forest', if_contamination = 0.01)"
   ]
  },
  {
   "cell_type": "markdown",
   "metadata": {},
   "source": [
    "# Visualize pairwise relations\n",
    "When datasets have just a few variables (10–15), pairplots allow for a quick visual inspection of those relations, as well as bariable distributions."
   ]
  },
  {
   "cell_type": "code",
   "execution_count": 215,
   "metadata": {},
   "outputs": [],
   "source": [
    "if build_images==True:\n",
    "    data_vis = data[numerical_cols]\n",
    "    data_vis['y'] = y_train['y']\n",
    "    print('visualize pairplots')\n",
    "    sns.pairplot(data_vis, plot_kws={'alpha': 0.1});\n",
    "    plt.savefig(os.path.join(reports,'01_pairplots.jpg'), bbox_inches = \"tight\")"
   ]
  },
  {
   "cell_type": "markdown",
   "metadata": {},
   "source": [
    "We see that most distributions are skewed and non-negative. This requires some transformations which will be left for the next notebook (feature_engineering)."
   ]
  },
  {
   "cell_type": "markdown",
   "metadata": {},
   "source": [
    "# Check if data is imbalanced\n",
    "When data is imbalanced, we must evaluate for solutions such as oversampling or undersamplig, which might be done with techniques such as SMOTE (Synthetic Minority Oversampling Technique)."
   ]
  },
  {
   "cell_type": "code",
   "execution_count": 216,
   "metadata": {},
   "outputs": [
    {
     "data": {
      "image/png": "[encoded data removed]",
      "text/plain": [
       "<Figure size 576x288 with 1 Axes>"
      ]
     },
     "metadata": {
      "needs_background": "light"
     },
     "output_type": "display_data"
    }
   ],
   "source": [
    "color = sns.color_palette()\n",
    "classif = y_train['y'].value_counts()\n",
    "plt.figure(figsize=(8,4))\n",
    "sns.barplot(classif.index, classif.values, alpha=0.8, color=color[0])\n",
    "plt.ylabel('Number of occurrences', fontsize=12)\n",
    "plt.xlabel('over 50', fontsize=12)\n",
    "plt.show()"
   ]
  },
  {
   "cell_type": "code",
   "execution_count": 217,
   "metadata": {},
   "outputs": [
    {
     "data": {
      "text/plain": [
       "0.0    3772\n",
       "1.0    1228\n",
       "Name: y, dtype: int64"
      ]
     },
     "execution_count": 217,
     "metadata": {},
     "output_type": "execute_result"
    }
   ],
   "source": [
    "counts = y_train['y'].value_counts()\n",
    "counts"
   ]
  },
  {
   "cell_type": "code",
   "execution_count": 218,
   "metadata": {},
   "outputs": [
    {
     "name": "stdout",
     "output_type": "stream",
     "text": [
      "ratio between classes: 3.07\n",
      "\r\n",
      "Check proportions below:\n"
     ]
    },
    {
     "data": {
      "text/plain": [
       "0.0    0.7544\n",
       "1.0    0.2456\n",
       "Name: y, dtype: float64"
      ]
     },
     "execution_count": 218,
     "metadata": {},
     "output_type": "execute_result"
    }
   ],
   "source": [
    "print('ratio between classes:',round(counts[0]/counts[1],2))\n",
    "print('\\r\\nCheck proportions below:')\n",
    "y_train['y'].value_counts(normalize=True)"
   ]
  },
  {
   "cell_type": "markdown",
   "metadata": {},
   "source": [
    "# filter response variable based on data cleansing of independent variables"
   ]
  },
  {
   "cell_type": "code",
   "execution_count": 219,
   "metadata": {},
   "outputs": [],
   "source": [
    "y_train = y_train.loc[data.index]\n",
    "y_test = y_test.loc[data_test.index]"
   ]
  },
  {
   "cell_type": "markdown",
   "metadata": {},
   "source": [
    "# Description (2nd round)"
   ]
  },
  {
   "cell_type": "code",
   "execution_count": 220,
   "metadata": {},
   "outputs": [
    {
     "data": {
      "text/html": [
       "<div>\n",
       "<style scoped>\n",
       "    .dataframe tbody tr th:only-of-type {\n",
       "        vertical-align: middle;\n",
       "    }\n",
       "\n",
       "    .dataframe tbody tr th {\n",
       "        vertical-align: top;\n",
       "    }\n",
       "\n",
       "    .dataframe thead th {\n",
       "        text-align: right;\n",
       "    }\n",
       "</style>\n",
       "<table border=\"1\" class=\"dataframe\">\n",
       "  <thead>\n",
       "    <tr style=\"text-align: right;\">\n",
       "      <th></th>\n",
       "      <th>age</th>\n",
       "      <th>education_num</th>\n",
       "      <th>capital_gain</th>\n",
       "      <th>capital_loss</th>\n",
       "      <th>hours_per_week</th>\n",
       "    </tr>\n",
       "  </thead>\n",
       "  <tbody>\n",
       "    <tr>\n",
       "      <th>count</th>\n",
       "      <td>4995.000000</td>\n",
       "      <td>4995.000000</td>\n",
       "      <td>4995.000000</td>\n",
       "      <td>4995.000000</td>\n",
       "      <td>4995.000000</td>\n",
       "    </tr>\n",
       "    <tr>\n",
       "      <th>mean</th>\n",
       "      <td>38.791391</td>\n",
       "      <td>10.065265</td>\n",
       "      <td>1131.290691</td>\n",
       "      <td>86.933333</td>\n",
       "      <td>40.687287</td>\n",
       "    </tr>\n",
       "    <tr>\n",
       "      <th>std</th>\n",
       "      <td>13.679030</td>\n",
       "      <td>2.554364</td>\n",
       "      <td>7586.737685</td>\n",
       "      <td>406.393692</td>\n",
       "      <td>12.262265</td>\n",
       "    </tr>\n",
       "    <tr>\n",
       "      <th>min</th>\n",
       "      <td>17.000000</td>\n",
       "      <td>1.000000</td>\n",
       "      <td>0.000000</td>\n",
       "      <td>0.000000</td>\n",
       "      <td>1.000000</td>\n",
       "    </tr>\n",
       "    <tr>\n",
       "      <th>25%</th>\n",
       "      <td>28.000000</td>\n",
       "      <td>9.000000</td>\n",
       "      <td>0.000000</td>\n",
       "      <td>0.000000</td>\n",
       "      <td>40.000000</td>\n",
       "    </tr>\n",
       "    <tr>\n",
       "      <th>50%</th>\n",
       "      <td>37.000000</td>\n",
       "      <td>10.000000</td>\n",
       "      <td>0.000000</td>\n",
       "      <td>0.000000</td>\n",
       "      <td>40.000000</td>\n",
       "    </tr>\n",
       "    <tr>\n",
       "      <th>75%</th>\n",
       "      <td>48.000000</td>\n",
       "      <td>12.000000</td>\n",
       "      <td>0.000000</td>\n",
       "      <td>0.000000</td>\n",
       "      <td>45.000000</td>\n",
       "    </tr>\n",
       "    <tr>\n",
       "      <th>max</th>\n",
       "      <td>90.000000</td>\n",
       "      <td>16.000000</td>\n",
       "      <td>99999.000000</td>\n",
       "      <td>4356.000000</td>\n",
       "      <td>99.000000</td>\n",
       "    </tr>\n",
       "  </tbody>\n",
       "</table>\n",
       "</div>"
      ],
      "text/plain": [
       "               age  education_num  capital_gain  capital_loss  hours_per_week\n",
       "count  4995.000000    4995.000000   4995.000000   4995.000000     4995.000000\n",
       "mean     38.791391      10.065265   1131.290691     86.933333       40.687287\n",
       "std      13.679030       2.554364   7586.737685    406.393692       12.262265\n",
       "min      17.000000       1.000000      0.000000      0.000000        1.000000\n",
       "25%      28.000000       9.000000      0.000000      0.000000       40.000000\n",
       "50%      37.000000      10.000000      0.000000      0.000000       40.000000\n",
       "75%      48.000000      12.000000      0.000000      0.000000       45.000000\n",
       "max      90.000000      16.000000  99999.000000   4356.000000       99.000000"
      ]
     },
     "execution_count": 220,
     "metadata": {},
     "output_type": "execute_result"
    }
   ],
   "source": [
    "data.describe()"
   ]
  },
  {
   "cell_type": "markdown",
   "metadata": {},
   "source": [
    "# save intermediate data"
   ]
  },
  {
   "cell_type": "code",
   "execution_count": 221,
   "metadata": {},
   "outputs": [],
   "source": [
    "data.to_csv(os.path.join(outputs, 'X_train.csv'))\n",
    "data_test.to_csv(os.path.join(outputs, 'X_test.csv'))\n",
    "\n",
    "y_train.to_csv(os.path.join(outputs, 'y_train.csv'))\n",
    "y_test.to_csv(os.path.join(outputs, 'y_test.csv'))"
   ]
  },
  {
   "cell_type": "markdown",
   "metadata": {},
   "source": [
    "# test functions\n",
    "Although unit tests would be more appropriate"
   ]
  },
  {
   "cell_type": "markdown",
   "metadata": {},
   "source": [
    "##### apply test to imputation"
   ]
  },
  {
   "cell_type": "code",
   "execution_count": 222,
   "metadata": {},
   "outputs": [
    {
     "name": "stdout",
     "output_type": "stream",
     "text": [
      "done imputation\n"
     ]
    },
    {
     "data": {
      "text/html": [
       "<div>\n",
       "<style scoped>\n",
       "    .dataframe tbody tr th:only-of-type {\n",
       "        vertical-align: middle;\n",
       "    }\n",
       "\n",
       "    .dataframe tbody tr th {\n",
       "        vertical-align: top;\n",
       "    }\n",
       "\n",
       "    .dataframe thead th {\n",
       "        text-align: right;\n",
       "    }\n",
       "</style>\n",
       "<table border=\"1\" class=\"dataframe\">\n",
       "  <thead>\n",
       "    <tr style=\"text-align: right;\">\n",
       "      <th></th>\n",
       "      <th>age</th>\n",
       "      <th>capital_gain</th>\n",
       "      <th>capital_loss</th>\n",
       "      <th>education</th>\n",
       "      <th>education_num</th>\n",
       "      <th>hours_per_week</th>\n",
       "      <th>marital_status</th>\n",
       "      <th>native_country</th>\n",
       "      <th>occupation</th>\n",
       "      <th>race</th>\n",
       "      <th>relationship</th>\n",
       "      <th>sex</th>\n",
       "      <th>workclass</th>\n",
       "      <th>string_test</th>\n",
       "    </tr>\n",
       "  </thead>\n",
       "  <tbody>\n",
       "    <tr>\n",
       "      <th>4992</th>\n",
       "      <td>35.000000</td>\n",
       "      <td>0.000000</td>\n",
       "      <td>0.000000e+00</td>\n",
       "      <td>HS-grad</td>\n",
       "      <td>9.000000</td>\n",
       "      <td>40.000000</td>\n",
       "      <td>Divorced</td>\n",
       "      <td>United-States</td>\n",
       "      <td>Craft-repair</td>\n",
       "      <td>White</td>\n",
       "      <td>Unmarried</td>\n",
       "      <td>Male</td>\n",
       "      <td>Private</td>\n",
       "      <td>string</td>\n",
       "    </tr>\n",
       "    <tr>\n",
       "      <th>4993</th>\n",
       "      <td>32.000000</td>\n",
       "      <td>0.000000</td>\n",
       "      <td>0.000000e+00</td>\n",
       "      <td>Assoc-voc</td>\n",
       "      <td>11.000000</td>\n",
       "      <td>99.000000</td>\n",
       "      <td>Married-civ-spouse</td>\n",
       "      <td>United-States</td>\n",
       "      <td>Transport-moving</td>\n",
       "      <td>White</td>\n",
       "      <td>Husband</td>\n",
       "      <td>Male</td>\n",
       "      <td>Private</td>\n",
       "      <td>string</td>\n",
       "    </tr>\n",
       "    <tr>\n",
       "      <th>4994</th>\n",
       "      <td>26.000000</td>\n",
       "      <td>0.000000</td>\n",
       "      <td>0.000000e+00</td>\n",
       "      <td>HS-grad</td>\n",
       "      <td>9.000000</td>\n",
       "      <td>40.000000</td>\n",
       "      <td>Never-married</td>\n",
       "      <td>United-States</td>\n",
       "      <td>Handlers-cleaners</td>\n",
       "      <td>Black</td>\n",
       "      <td>Own-child</td>\n",
       "      <td>Male</td>\n",
       "      <td>Private</td>\n",
       "      <td>string</td>\n",
       "    </tr>\n",
       "    <tr>\n",
       "      <th>4995</th>\n",
       "      <td>43.555656</td>\n",
       "      <td>1093.410401</td>\n",
       "      <td>1.241370e-15</td>\n",
       "      <td>NaN</td>\n",
       "      <td>7.872816</td>\n",
       "      <td>33.892916</td>\n",
       "      <td>NaN</td>\n",
       "      <td>NaN</td>\n",
       "      <td>NaN</td>\n",
       "      <td>NaN</td>\n",
       "      <td>NaN</td>\n",
       "      <td>NaN</td>\n",
       "      <td>NaN</td>\n",
       "      <td>string</td>\n",
       "    </tr>\n",
       "    <tr>\n",
       "      <th>4996</th>\n",
       "      <td>43.555656</td>\n",
       "      <td>1093.410401</td>\n",
       "      <td>1.241370e-15</td>\n",
       "      <td>NaN</td>\n",
       "      <td>7.872816</td>\n",
       "      <td>33.892916</td>\n",
       "      <td>NaN</td>\n",
       "      <td>NaN</td>\n",
       "      <td>NaN</td>\n",
       "      <td>NaN</td>\n",
       "      <td>NaN</td>\n",
       "      <td>NaN</td>\n",
       "      <td>NaN</td>\n",
       "      <td>string</td>\n",
       "    </tr>\n",
       "  </tbody>\n",
       "</table>\n",
       "</div>"
      ],
      "text/plain": [
       "            age  capital_gain  capital_loss  education  education_num  \\\n",
       "4992  35.000000      0.000000  0.000000e+00    HS-grad       9.000000   \n",
       "4993  32.000000      0.000000  0.000000e+00  Assoc-voc      11.000000   \n",
       "4994  26.000000      0.000000  0.000000e+00    HS-grad       9.000000   \n",
       "4995  43.555656   1093.410401  1.241370e-15        NaN       7.872816   \n",
       "4996  43.555656   1093.410401  1.241370e-15        NaN       7.872816   \n",
       "\n",
       "      hours_per_week      marital_status native_country         occupation  \\\n",
       "4992       40.000000            Divorced  United-States       Craft-repair   \n",
       "4993       99.000000  Married-civ-spouse  United-States   Transport-moving   \n",
       "4994       40.000000       Never-married  United-States  Handlers-cleaners   \n",
       "4995       33.892916                 NaN            NaN                NaN   \n",
       "4996       33.892916                 NaN            NaN                NaN   \n",
       "\n",
       "       race relationship   sex workclass string_test  \n",
       "4992  White    Unmarried  Male   Private      string  \n",
       "4993  White      Husband  Male   Private      string  \n",
       "4994  Black    Own-child  Male   Private      string  \n",
       "4995    NaN          NaN   NaN       NaN      string  \n",
       "4996    NaN          NaN   NaN       NaN      string  "
      ]
     },
     "execution_count": 222,
     "metadata": {},
     "output_type": "execute_result"
    }
   ],
   "source": [
    "test = pd.DataFrame(['NaN', 'NaN'])\n",
    "test = pd.concat([data, test], ignore_index = True)\n",
    "test['string_test'] = 'string'\n",
    "# if 'NaN' in test.values:\n",
    "if test.isnull().values.any():\n",
    "    test = test.drop([0], axis=1)\n",
    "    test[numerical_cols] = apply_imputation(test[numerical_cols], method = 'knn', k = 30)\n",
    "    print('done imputation')\n",
    "test.tail()"
   ]
  },
  {
   "cell_type": "code",
   "execution_count": 223,
   "metadata": {},
   "outputs": [
    {
     "data": {
      "text/plain": [
       "(4995, 13)"
      ]
     },
     "execution_count": 223,
     "metadata": {},
     "output_type": "execute_result"
    }
   ],
   "source": [
    "data.shape"
   ]
  }
 ],
 "metadata": {
  "kernelspec": {
   "display_name": "Python 3",
   "language": "python",
   "name": "python3"
  },
  "language_info": {
   "codemirror_mode": {
    "name": "ipython",
    "version": 3
   },
   "file_extension": ".py",
   "mimetype": "text/x-python",
   "name": "python",
   "nbconvert_exporter": "python",
   "pygments_lexer": "ipython3",
   "version": "3.7.5"
  }
 },
 "nbformat": 4,
 "nbformat_minor": 4
}
