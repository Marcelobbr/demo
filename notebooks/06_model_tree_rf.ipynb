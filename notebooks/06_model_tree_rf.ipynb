{
 "cells": [
  {
   "cell_type": "code",
   "execution_count": 39,
   "metadata": {},
   "outputs": [],
   "source": [
    "import json\n",
    "import os\n",
    "import sys\n",
    "import warnings\n",
    "\n",
    "import numpy as np\n",
    "import pandas as pd\n",
    "from datetime import datetime\n",
    "from pprint import pprint\n",
    "from sklearn.preprocessing import StandardScaler\n",
    "from sklearn.impute import SimpleImputer as Imputer\n",
    "from sklearn.pipeline import Pipeline\n",
    "from sklearn.model_selection import GridSearchCV\n",
    "\n",
    "warnings.filterwarnings('ignore')"
   ]
  },
  {
   "cell_type": "code",
   "execution_count": 40,
   "metadata": {},
   "outputs": [],
   "source": [
    "sys.path.append(os.path.join('..', 'src'))"
   ]
  },
  {
   "cell_type": "code",
   "execution_count": 41,
   "metadata": {},
   "outputs": [],
   "source": [
    "import importlib\n",
    "import utils, model\n",
    "importlib.reload(utils)\n",
    "importlib.reload(model)\n",
    "\n",
    "from utils import capture_data, build_data_dict\n",
    "from model import timer, measure_prediction_time, apply_ml_model, save_model_parameters, save_model_metrics\n",
    "from model import get_folders\n",
    "\n",
    "import params\n",
    "importlib.reload(params)\n",
    "from params import ProjectParameters"
   ]
  },
  {
   "cell_type": "markdown",
   "metadata": {},
   "source": [
    "# set model parameters and capture data"
   ]
  },
  {
   "cell_type": "code",
   "execution_count": 42,
   "metadata": {},
   "outputs": [
    {
     "name": "stdout",
     "output_type": "stream",
     "text": [
      "SELECTED TARGET AND SCORING ARE: binary , accuracy\n",
      "loading data into dictionary\n",
      "(32534, 13)\n",
      "(32534, 1)\n"
     ]
    }
   ],
   "source": [
    "target_type = ProjectParameters().target_type\n",
    "scoring = ProjectParameters().scoring\n",
    "print('SELECTED TARGET AND SCORING ARE:', target_type, ',', scoring)\n",
    "\n",
    "inputs, models_reports, model_outputs, reports = get_folders()\n",
    "\n",
    "data_list = ['X_train', 'y_train']\n",
    "dfs_dict = build_data_dict(inputs, data_list)\n",
    "\n",
    "for df in data_list:\n",
    "    print(dfs_dict[df].shape)"
   ]
  },
  {
   "cell_type": "code",
   "execution_count": 43,
   "metadata": {},
   "outputs": [],
   "source": [
    "dfs_dict['y_train'] = dfs_dict['y_train']['y'].to_list()"
   ]
  },
  {
   "cell_type": "code",
   "execution_count": 44,
   "metadata": {},
   "outputs": [
    {
     "data": {
      "text/plain": [
       "32534"
      ]
     },
     "execution_count": 44,
     "metadata": {},
     "output_type": "execute_result"
    }
   ],
   "source": [
    "len(dfs_dict['y_train'])"
   ]
  },
  {
   "cell_type": "markdown",
   "metadata": {},
   "source": [
    "# Machine Learning"
   ]
  },
  {
   "cell_type": "code",
   "execution_count": 45,
   "metadata": {},
   "outputs": [],
   "source": [
    "import warnings\n",
    "warnings.filterwarnings('ignore')"
   ]
  },
  {
   "cell_type": "code",
   "execution_count": 46,
   "metadata": {},
   "outputs": [],
   "source": [
    "from sklearn.ensemble import RandomForestClassifier\n",
    "from sklearn.ensemble import RandomForestRegressor"
   ]
  },
  {
   "cell_type": "code",
   "execution_count": 47,
   "metadata": {},
   "outputs": [],
   "source": [
    "model_type = 'tree_randomforest'\n",
    "ml_dict = {}"
   ]
  },
  {
   "cell_type": "code",
   "execution_count": 48,
   "metadata": {},
   "outputs": [],
   "source": [
    "def get_model_params(classifier):\n",
    "    if target_type == 'regression':\n",
    "        classifier.best_score_ = -classifier.best_score_\n",
    "    return classifier.best_params_, classifier.best_score_"
   ]
  },
  {
   "cell_type": "code",
   "execution_count": 49,
   "metadata": {},
   "outputs": [
    {
     "data": {
      "text/html": [
       "<div>\n",
       "<style scoped>\n",
       "    .dataframe tbody tr th:only-of-type {\n",
       "        vertical-align: middle;\n",
       "    }\n",
       "\n",
       "    .dataframe tbody tr th {\n",
       "        vertical-align: top;\n",
       "    }\n",
       "\n",
       "    .dataframe thead th {\n",
       "        text-align: right;\n",
       "    }\n",
       "</style>\n",
       "<table border=\"1\" class=\"dataframe\">\n",
       "  <thead>\n",
       "    <tr style=\"text-align: right;\">\n",
       "      <th></th>\n",
       "      <th>age</th>\n",
       "      <th>workclass</th>\n",
       "      <th>education</th>\n",
       "      <th>education_num</th>\n",
       "      <th>marital_status</th>\n",
       "      <th>occupation</th>\n",
       "      <th>relationship</th>\n",
       "      <th>race</th>\n",
       "      <th>sex</th>\n",
       "      <th>capital_gain</th>\n",
       "      <th>capital_loss</th>\n",
       "      <th>hours_per_week</th>\n",
       "      <th>native_country</th>\n",
       "    </tr>\n",
       "    <tr>\n",
       "      <th>id</th>\n",
       "      <th></th>\n",
       "      <th></th>\n",
       "      <th></th>\n",
       "      <th></th>\n",
       "      <th></th>\n",
       "      <th></th>\n",
       "      <th></th>\n",
       "      <th></th>\n",
       "      <th></th>\n",
       "      <th></th>\n",
       "      <th></th>\n",
       "      <th></th>\n",
       "      <th></th>\n",
       "    </tr>\n",
       "  </thead>\n",
       "  <tbody>\n",
       "    <tr>\n",
       "      <th>0</th>\n",
       "      <td>39.0</td>\n",
       "      <td>0.0</td>\n",
       "      <td>0.0</td>\n",
       "      <td>13.0</td>\n",
       "      <td>0.0</td>\n",
       "      <td>0.0</td>\n",
       "      <td>0.0</td>\n",
       "      <td>0.0</td>\n",
       "      <td>0.0</td>\n",
       "      <td>2174.0</td>\n",
       "      <td>0.0</td>\n",
       "      <td>40.0</td>\n",
       "      <td>0.0</td>\n",
       "    </tr>\n",
       "    <tr>\n",
       "      <th>1</th>\n",
       "      <td>50.0</td>\n",
       "      <td>1.0</td>\n",
       "      <td>0.0</td>\n",
       "      <td>13.0</td>\n",
       "      <td>1.0</td>\n",
       "      <td>1.0</td>\n",
       "      <td>1.0</td>\n",
       "      <td>0.0</td>\n",
       "      <td>0.0</td>\n",
       "      <td>0.0</td>\n",
       "      <td>0.0</td>\n",
       "      <td>13.0</td>\n",
       "      <td>0.0</td>\n",
       "    </tr>\n",
       "    <tr>\n",
       "      <th>2</th>\n",
       "      <td>38.0</td>\n",
       "      <td>2.0</td>\n",
       "      <td>1.0</td>\n",
       "      <td>9.0</td>\n",
       "      <td>2.0</td>\n",
       "      <td>2.0</td>\n",
       "      <td>0.0</td>\n",
       "      <td>0.0</td>\n",
       "      <td>0.0</td>\n",
       "      <td>0.0</td>\n",
       "      <td>0.0</td>\n",
       "      <td>40.0</td>\n",
       "      <td>0.0</td>\n",
       "    </tr>\n",
       "    <tr>\n",
       "      <th>3</th>\n",
       "      <td>53.0</td>\n",
       "      <td>2.0</td>\n",
       "      <td>2.0</td>\n",
       "      <td>7.0</td>\n",
       "      <td>1.0</td>\n",
       "      <td>2.0</td>\n",
       "      <td>1.0</td>\n",
       "      <td>1.0</td>\n",
       "      <td>0.0</td>\n",
       "      <td>0.0</td>\n",
       "      <td>0.0</td>\n",
       "      <td>40.0</td>\n",
       "      <td>0.0</td>\n",
       "    </tr>\n",
       "    <tr>\n",
       "      <th>4</th>\n",
       "      <td>28.0</td>\n",
       "      <td>2.0</td>\n",
       "      <td>0.0</td>\n",
       "      <td>13.0</td>\n",
       "      <td>1.0</td>\n",
       "      <td>3.0</td>\n",
       "      <td>2.0</td>\n",
       "      <td>1.0</td>\n",
       "      <td>1.0</td>\n",
       "      <td>0.0</td>\n",
       "      <td>0.0</td>\n",
       "      <td>40.0</td>\n",
       "      <td>1.0</td>\n",
       "    </tr>\n",
       "  </tbody>\n",
       "</table>\n",
       "</div>"
      ],
      "text/plain": [
       "     age  workclass  education  education_num  marital_status  occupation  \\\n",
       "id                                                                          \n",
       "0   39.0        0.0        0.0           13.0             0.0         0.0   \n",
       "1   50.0        1.0        0.0           13.0             1.0         1.0   \n",
       "2   38.0        2.0        1.0            9.0             2.0         2.0   \n",
       "3   53.0        2.0        2.0            7.0             1.0         2.0   \n",
       "4   28.0        2.0        0.0           13.0             1.0         3.0   \n",
       "\n",
       "    relationship  race  sex  capital_gain  capital_loss  hours_per_week  \\\n",
       "id                                                                        \n",
       "0            0.0   0.0  0.0        2174.0           0.0            40.0   \n",
       "1            1.0   0.0  0.0           0.0           0.0            13.0   \n",
       "2            0.0   0.0  0.0           0.0           0.0            40.0   \n",
       "3            1.0   1.0  0.0           0.0           0.0            40.0   \n",
       "4            2.0   1.0  1.0           0.0           0.0            40.0   \n",
       "\n",
       "    native_country  \n",
       "id                  \n",
       "0              0.0  \n",
       "1              0.0  \n",
       "2              0.0  \n",
       "3              0.0  \n",
       "4              1.0  "
      ]
     },
     "execution_count": 49,
     "metadata": {},
     "output_type": "execute_result"
    }
   ],
   "source": [
    "dfs_dict['X_train'].head()"
   ]
  },
  {
   "cell_type": "code",
   "execution_count": 50,
   "metadata": {},
   "outputs": [
    {
     "name": "stdout",
     "output_type": "stream",
     "text": [
      "2021-05-21 17:39:31.711866\n",
      "running with key: standard\n",
      "test type: True\n",
      "number of columns before building polynomials: 13\n",
      "number of columns after building polynomials: 20\n",
      "(32534, 20) (32534, 20)\n"
     ]
    }
   ],
   "source": [
    "print(datetime.now())\n",
    "# Specify the hyperparameter space\n",
    "parameters = {'model__max_features':[1, 2, \"auto\", \"log2\", None],\n",
    "              'model__n_estimators':[100, 200, 300],\n",
    "#               'model__n_estimators':[10], # it allows faster tests on pipeline\n",
    "              'model__random_state':[42]}\n",
    "\n",
    "if target_type == 'regression':\n",
    "    ml_model = RandomForestRegressor()\n",
    "    # set tol, default is 1e-4\n",
    "    do_transform_label = 'log'\n",
    "elif target_type == 'binary':\n",
    "    ml_model = RandomForestClassifier()\n",
    "    do_transform_label = None\n",
    "    \n",
    "df_x = dfs_dict['X_train']\n",
    "df_y = dfs_dict['y_train']\n",
    "key = 'standard'\n",
    "print('running with key:', key)\n",
    "ml_dict[key] = {model_type: {}}\n",
    "clf, ml_dict[key][model_type]['train_time'], ml_dict[key][model_type]['prediction_time'] = apply_ml_model(\n",
    "    dfs_dict, df_y, ml_model, parameters, scoring, \n",
    "    encoding='ordinal', treat_collinearity = False, do_build_polynomals=True, do_transform_label=do_transform_label, \n",
    "    do_treat_skewness=False,\n",
    "    imputation=Imputer(strategy='median'), scaler=StandardScaler(), smote=False,\n",
    "    testing=True)\n",
    "\n",
    "ml_dict[key][model_type]['best_params'], ml_dict[key][model_type]['best_score']  = get_model_params(clf)"
   ]
  },
  {
   "cell_type": "code",
   "execution_count": 51,
   "metadata": {
    "scrolled": true
   },
   "outputs": [
    {
     "name": "stdout",
     "output_type": "stream",
     "text": [
      "RESULTS FOR TREE MODEL\n",
      "{'standard': {'tree_randomforest': {'best_params': {'model__max_features': None,\n",
      "                                                    'model__n_estimators': 200,\n",
      "                                                    'model__random_state': 42},\n",
      "                                    'best_score': 0.8215713589153747,\n",
      "                                    'prediction_time': 0.0018994,\n",
      "                                    'train_time': 720.936488}}}\n"
     ]
    }
   ],
   "source": [
    "print('RESULTS FOR TREE MODEL')\n",
    "pprint(ml_dict)"
   ]
  },
  {
   "cell_type": "markdown",
   "metadata": {},
   "source": [
    "# save model parameters and metrics"
   ]
  },
  {
   "cell_type": "code",
   "execution_count": 52,
   "metadata": {},
   "outputs": [],
   "source": [
    "save_model_parameters(models_reports, model_type, clf)\n",
    "save_model_metrics(model_outputs, model_type, ml_dict)"
   ]
  },
  {
   "cell_type": "code",
   "execution_count": null,
   "metadata": {},
   "outputs": [],
   "source": []
  }
 ],
 "metadata": {
  "kernelspec": {
   "display_name": "Python 3",
   "language": "python",
   "name": "python3"
  },
  "language_info": {
   "codemirror_mode": {
    "name": "ipython",
    "version": 3
   },
   "file_extension": ".py",
   "mimetype": "text/x-python",
   "name": "python",
   "nbconvert_exporter": "python",
   "pygments_lexer": "ipython3",
   "version": "3.7.5"
  }
 },
 "nbformat": 4,
 "nbformat_minor": 4
}
