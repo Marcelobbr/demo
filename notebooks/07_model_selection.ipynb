{
 "cells": [
  {
   "cell_type": "code",
   "execution_count": 96,
   "metadata": {},
   "outputs": [],
   "source": [
    "import json\n",
    "import os\n",
    "import re\n",
    "import sys\n",
    "import warnings\n",
    "\n",
    "import matplotlib.pyplot as plt\n",
    "import numpy as np\n",
    "import pandas as pd\n",
    "import statistics\n",
    "import statsmodels.api as sm\n",
    "from pprint import pprint\n",
    "\n",
    "# %matplotlib inline\n",
    "warnings.filterwarnings('ignore')"
   ]
  },
  {
   "cell_type": "code",
   "execution_count": 97,
   "metadata": {},
   "outputs": [],
   "source": [
    "sys.path.append(os.path.join('..', 'src'))"
   ]
  },
  {
   "cell_type": "code",
   "execution_count": 98,
   "metadata": {},
   "outputs": [],
   "source": [
    "import importlib\n",
    "import utils, model\n",
    "importlib.reload(model)\n",
    "importlib.reload(utils)\n",
    "from utils import build_data_dict\n",
    "from model import timer, measure_prediction_time, apply_ml_model, save_model_parameters, save_model_metrics\n",
    "from model import get_folders\n",
    "\n",
    "import params\n",
    "importlib.reload(params)\n",
    "from params import ProjectParameters"
   ]
  },
  {
   "cell_type": "markdown",
   "metadata": {},
   "source": [
    "# set model parameters"
   ]
  },
  {
   "cell_type": "code",
   "execution_count": 99,
   "metadata": {},
   "outputs": [],
   "source": [
    "# target_type = ProjectParameters().target_type\n",
    "scoring = ProjectParameters().scoring\n",
    "# print('SELECTED TARGET AND SCORING ARE:', target, ',', scoring)"
   ]
  },
  {
   "cell_type": "markdown",
   "metadata": {},
   "source": [
    "# Data capture"
   ]
  },
  {
   "cell_type": "code",
   "execution_count": 100,
   "metadata": {},
   "outputs": [
    {
     "name": "stdout",
     "output_type": "stream",
     "text": [
      "loading data into dictionary\n"
     ]
    }
   ],
   "source": [
    "inputs, models_reports, model_outputs, reports = get_folders()\n",
    "\n",
    "data_list = ['X_train', 'X_test', 'X_train_oh', 'X_test_oh', 'y_train', 'y_test']\n",
    "dfs_dict = build_data_dict(inputs, data_list)"
   ]
  },
  {
   "cell_type": "code",
   "execution_count": 101,
   "metadata": {},
   "outputs": [
    {
     "name": "stdout",
     "output_type": "stream",
     "text": [
      "shape for X_train: (32534, 13)\n",
      "shape for X_test: (16281, 13)\n",
      "shape for X_train_oh: (32534, 96)\n",
      "shape for X_test_oh: (16281, 96)\n",
      "shape for y_train: (32534, 1)\n",
      "shape for y_test: (16281, 1)\n"
     ]
    }
   ],
   "source": [
    "for data in data_list:\n",
    "    print('shape for {}:'.format(data), dfs_dict[data].shape)"
   ]
  },
  {
   "cell_type": "code",
   "execution_count": 102,
   "metadata": {},
   "outputs": [],
   "source": [
    "target_type = 'binary'"
   ]
  },
  {
   "cell_type": "markdown",
   "metadata": {},
   "source": [
    "# Machine Learning"
   ]
  },
  {
   "cell_type": "code",
   "execution_count": 103,
   "metadata": {},
   "outputs": [],
   "source": [
    "import warnings\n",
    "warnings.filterwarnings('ignore')\n",
    "# warnings.simplefilter('ignore')"
   ]
  },
  {
   "cell_type": "code",
   "execution_count": 104,
   "metadata": {},
   "outputs": [],
   "source": [
    "from sklearn.preprocessing import StandardScaler\n",
    "from sklearn.impute import SimpleImputer as Imputer\n",
    "from sklearn.pipeline import Pipeline\n",
    "from sklearn.model_selection import train_test_split, GridSearchCV\n",
    "# from sklearn.metrics import classification_report, roc_curve, precision_recall_curve, confusion_matrix\n",
    "# from sklearn.metrics import accuracy_score, log_loss, f1_score\n",
    "from sklearn.metrics import mean_absolute_error, mean_squared_error, r2_score"
   ]
  },
  {
   "cell_type": "markdown",
   "metadata": {},
   "source": [
    "## Pipelines with preprocessing and crossvalidation"
   ]
  },
  {
   "cell_type": "markdown",
   "metadata": {},
   "source": [
    "## Baseline classifiers\n",
    "We could always start with simple baselines. For regression, we could use a simple Lasso with no hyperparameter tuning. Lasso is L1 regularization and penalizes high complexity of the model."
   ]
  },
  {
   "cell_type": "code",
   "execution_count": 105,
   "metadata": {},
   "outputs": [],
   "source": [
    "ml_dict, time_dict = {'standard': {}, 'smote': {}, 'no_col': {}}, {'standard': {}, 'smote': {}, 'no_col': {}}"
   ]
  },
  {
   "cell_type": "markdown",
   "metadata": {},
   "source": [
    "### 1) random guess using mean"
   ]
  },
  {
   "cell_type": "code",
   "execution_count": 106,
   "metadata": {},
   "outputs": [
    {
     "data": {
      "text/html": [
       "<div>\n",
       "<style scoped>\n",
       "    .dataframe tbody tr th:only-of-type {\n",
       "        vertical-align: middle;\n",
       "    }\n",
       "\n",
       "    .dataframe tbody tr th {\n",
       "        vertical-align: top;\n",
       "    }\n",
       "\n",
       "    .dataframe thead th {\n",
       "        text-align: right;\n",
       "    }\n",
       "</style>\n",
       "<table border=\"1\" class=\"dataframe\">\n",
       "  <thead>\n",
       "    <tr style=\"text-align: right;\">\n",
       "      <th></th>\n",
       "      <th>y</th>\n",
       "    </tr>\n",
       "    <tr>\n",
       "      <th>id</th>\n",
       "      <th></th>\n",
       "    </tr>\n",
       "  </thead>\n",
       "  <tbody>\n",
       "    <tr>\n",
       "      <th>0</th>\n",
       "      <td>0.0</td>\n",
       "    </tr>\n",
       "    <tr>\n",
       "      <th>1</th>\n",
       "      <td>0.0</td>\n",
       "    </tr>\n",
       "    <tr>\n",
       "      <th>2</th>\n",
       "      <td>0.0</td>\n",
       "    </tr>\n",
       "    <tr>\n",
       "      <th>3</th>\n",
       "      <td>0.0</td>\n",
       "    </tr>\n",
       "    <tr>\n",
       "      <th>4</th>\n",
       "      <td>0.0</td>\n",
       "    </tr>\n",
       "  </tbody>\n",
       "</table>\n",
       "</div>"
      ],
      "text/plain": [
       "      y\n",
       "id     \n",
       "0   0.0\n",
       "1   0.0\n",
       "2   0.0\n",
       "3   0.0\n",
       "4   0.0"
      ]
     },
     "execution_count": 106,
     "metadata": {},
     "output_type": "execute_result"
    }
   ],
   "source": [
    "dfs_dict['y_train'].head()"
   ]
  },
  {
   "cell_type": "code",
   "execution_count": 107,
   "metadata": {},
   "outputs": [],
   "source": [
    "y_pred = [statistics.mean(np.array(dfs_dict['y_train']['y']))]*len(dfs_dict['y_test'])"
   ]
  },
  {
   "cell_type": "markdown",
   "metadata": {},
   "source": [
    "### 1) using Logistic Regression"
   ]
  },
  {
   "cell_type": "code",
   "execution_count": 109,
   "metadata": {},
   "outputs": [],
   "source": [
    "from sklearn.linear_model import Lasso\n",
    "from sklearn.linear_model import LogisticRegression"
   ]
  },
  {
   "cell_type": "code",
   "execution_count": 110,
   "metadata": {},
   "outputs": [
    {
     "data": {
      "text/plain": [
       "{'standard': {}}"
      ]
     },
     "execution_count": 110,
     "metadata": {},
     "output_type": "execute_result"
    }
   ],
   "source": [
    "ml_dict = {}\n",
    "# for key in ['standard', 'skewed', 'no_col', 'no_col_skewed', 'oh']:\n",
    "for key in ['standard']:\n",
    "    ml_dict[key] = {}\n",
    "ml_dict"
   ]
  },
  {
   "cell_type": "code",
   "execution_count": 111,
   "metadata": {},
   "outputs": [
    {
     "name": "stdout",
     "output_type": "stream",
     "text": [
      "test type: False\n"
     ]
    }
   ],
   "source": [
    "ml_model = 'baseline'\n",
    "\n",
    "# if  target_type == 'regression':\n",
    "#     parameters = {'model__alpha': [1], \n",
    "#               'model__random_state':[42]}\n",
    "#     model = Lasso()\n",
    "#     do_transform_label = 'log'\n",
    "if  target_type == 'binary':\n",
    "    parameters = {'model__random_state':[42]}\n",
    "    model = LogisticRegression()\n",
    "    do_transform_label = None\n",
    "clf, train_time, prediction_time = apply_ml_model(\n",
    "    dfs_dict, dfs_dict['y_train'], model, parameters, scoring, \n",
    "    encoding='one-hot', do_build_polynomals=False, do_transform_label=do_transform_label, do_treat_skewness=False,\n",
    "    imputation=Imputer(strategy='median'), scaler=StandardScaler(),\n",
    "    testing=False)\n",
    "\n",
    "key= 'standard'\n",
    "if scoring == 'neg_mean_squared_error':\n",
    "    clf.best_score_ = -clf.best_score_\n",
    "ml_dict[key][ml_model] = {}\n",
    "ml_dict[key][ml_model]['best_params'] = clf.best_params_\n",
    "ml_dict[key][ml_model]['best_score'] = clf.best_score_\n",
    "ml_dict[key][ml_model]['train_time'] = train_time\n",
    "ml_dict[key][ml_model]['prediction_time'] = prediction_time"
   ]
  },
  {
   "cell_type": "markdown",
   "metadata": {},
   "source": [
    "### ML models"
   ]
  },
  {
   "cell_type": "markdown",
   "metadata": {},
   "source": [
    "Our metric to compare models will be mean squared error. It penalizes outliers more than mean absolute error."
   ]
  },
  {
   "cell_type": "markdown",
   "metadata": {},
   "source": [
    "# load results"
   ]
  },
  {
   "cell_type": "code",
   "execution_count": 112,
   "metadata": {},
   "outputs": [],
   "source": [
    "def load_json_results(filename):\n",
    "    filepath = os.path.join(model_outputs, filename+'.json')\n",
    "    with open(filepath, 'r') as file:\n",
    "        return json.load(file)"
   ]
  },
  {
   "cell_type": "code",
   "execution_count": 113,
   "metadata": {},
   "outputs": [],
   "source": [
    "ml_models = ['reg', 'tree_randomforest']\n",
    "# ml_models = ['reg_elasticnet']\n",
    "for ml_model in ml_models:\n",
    "    json_results = load_json_results(ml_model)\n",
    "    for key,value in json_results.items():\n",
    "        ml_dict[key][ml_model] = value[ml_model]"
   ]
  },
  {
   "cell_type": "markdown",
   "metadata": {},
   "source": [
    "## xgboost"
   ]
  },
  {
   "cell_type": "code",
   "execution_count": 114,
   "metadata": {},
   "outputs": [],
   "source": [
    "ml_model = 'tree_xgboost'\n",
    "json_results = load_json_results(ml_model)\n",
    "for key,value in json_results.items():\n",
    "    ml_dict[key][ml_model] = value[ml_model]"
   ]
  },
  {
   "cell_type": "code",
   "execution_count": 115,
   "metadata": {},
   "outputs": [
    {
     "name": "stdout",
     "output_type": "stream",
     "text": [
      "{'standard': {'baseline': {'best_params': {'model__random_state': 42},\n",
      "                           'best_score': 0.8506178713354215,\n",
      "                           'prediction_time': 0.0005,\n",
      "                           'train_time': 6.102996},\n",
      "              'reg': {'best_params': {'model__C': 0.01,\n",
      "                                      'model__penalty': 'l2',\n",
      "                                      'model__random_state': 42},\n",
      "                      'best_score': 0.844562622172693,\n",
      "                      'prediction_time': 0.0004968,\n",
      "                      'train_time': 16.309028},\n",
      "              'tree_randomforest': {'best_params': {'model__max_features': None,\n",
      "                                                    'model__n_estimators': 200,\n",
      "                                                    'model__random_state': 42},\n",
      "                                    'best_score': 0.8215713589153747,\n",
      "                                    'prediction_time': 0.0077786,\n",
      "                                    'train_time': 716.843819},\n",
      "              'tree_xgboost': {'best_params': {'base_score': 0.5,\n",
      "                                               'booster': 'gbtree',\n",
      "                                               'colsample_bylevel': 1,\n",
      "                                               'colsample_bynode': 1,\n",
      "                                               'colsample_bytree': 0.8,\n",
      "                                               'gamma': 0,\n",
      "                                               'learning_rate': 0.1,\n",
      "                                               'max_delta_step': 0,\n",
      "                                               'max_depth': 5,\n",
      "                                               'min_child_weight': 1,\n",
      "                                               'missing': None,\n",
      "                                               'n_estimators': 50,\n",
      "                                               'n_jobs': 1,\n",
      "                                               'nthread': 8,\n",
      "                                               'objective': 'binary:logistic',\n",
      "                                               'random_state': 42,\n",
      "                                               'reg_alpha': 0,\n",
      "                                               'reg_lambda': 1,\n",
      "                                               'scale_pos_weight': 1,\n",
      "                                               'seed': None,\n",
      "                                               'silent': None,\n",
      "                                               'subsample': 0.8,\n",
      "                                               'verbosity': 1},\n",
      "                               'best_score': 0.8665088830146923,\n",
      "                               'prediction_time': 0.0001999,\n",
      "                               'train_time': 3.482}}}\n"
     ]
    }
   ],
   "source": [
    "pprint(ml_dict)"
   ]
  },
  {
   "cell_type": "markdown",
   "metadata": {},
   "source": [
    "# compare results"
   ]
  },
  {
   "cell_type": "code",
   "execution_count": 116,
   "metadata": {},
   "outputs": [],
   "source": [
    "import operator\n",
    "def plot_user_metric(results, user_metric):\n",
    "    file = '06metric_'+user_metric+'.jpg'\n",
    "    tup_results = sorted(results.items(), key=operator.itemgetter(1))\n",
    "\n",
    "    N = len(results)\n",
    "    ind = np.arange(N)  # the x locations for the groups\n",
    "    width = 0.40       # the width of the bars\n",
    "\n",
    "    fig = plt.figure(figsize=(8,2))\n",
    "    ax = fig.add_subplot(111)\n",
    "    rects = ax.bar(ind+0.5, list(zip(*tup_results))[1], width,)\n",
    "    for rect in rects:\n",
    "        height = rect.get_height()\n",
    "        ax.text(rect.get_x()+rect.get_width()/2., \n",
    "                1.005*height, \n",
    "                '{0:.4f}'.format(height), \n",
    "                ha='center', \n",
    "                va='bottom',)\n",
    "\n",
    "    ax.set_xlabel('ML model')\n",
    "    \n",
    "    ax.set_ylabel(user_metric)\n",
    "    ax.set_title(\"{} comparison\".format(user_metric))\n",
    "        \n",
    "    ax.set_xticks(ind + width/2.)\n",
    "    ax.set_xticklabels(list(zip(*tup_results))[0], rotation=22)\n",
    "    print(\"Order of models:\", list(zip(*tup_results))[0])\n",
    "    \n",
    "    plt.plot()\n",
    "    plt.savefig(os.path.join(reports,file), bbox_inches = \"tight\")"
   ]
  },
  {
   "cell_type": "code",
   "execution_count": 118,
   "metadata": {},
   "outputs": [],
   "source": [
    "dic_results = {}\n",
    "for key,val in ml_dict['standard'].items():\n",
    "    ml_model = re.sub('clf_.*_(.*)', r'\\1', key)\n",
    "    dic_results[ml_model] = val['best_score']"
   ]
  },
  {
   "cell_type": "code",
   "execution_count": 119,
   "metadata": {},
   "outputs": [
    {
     "name": "stdout",
     "output_type": "stream",
     "text": [
      "Order of models: ('tree_randomforest', 'reg', 'baseline', 'tree_xgboost')\n"
     ]
    },
    {
     "data": {
      "image/png": "[encoded data removed]",
      "text/plain": [
       "<Figure size 576x144 with 1 Axes>"
      ]
     },
     "metadata": {
      "needs_background": "light"
     },
     "output_type": "display_data"
    }
   ],
   "source": [
    "plot_user_metric(dic_results, 'score')"
   ]
  },
  {
   "cell_type": "markdown",
   "metadata": {},
   "source": [
    "# time and computational complexity\n",
    "This objective of this section is to simulate complexity of ML models used for this dataset. The ideal approach would be to check computational complexity using Big-O notation or picking different sizes of dataset to see how complexity changes. The absolute value itself can be misleading if we forget that it depends on computer power. Nevertheless, we can do a basic comparison from those models here. The final model should not be based only on score, but also on how long it takes to train, and, for real time applications, how long it takes to give a prediction. Other issues might also be important, such as interpretability, labor cost to build/tune the algorithm and ease of deployment."
   ]
  },
  {
   "cell_type": "markdown",
   "metadata": {},
   "source": [
    "#### Time comparison during training"
   ]
  },
  {
   "cell_type": "code",
   "execution_count": 120,
   "metadata": {},
   "outputs": [],
   "source": [
    "dic_time = {}\n",
    "for key,val in ml_dict['standard'].items():\n",
    "    ml_model = re.sub('clf_.*_(.*)', r'\\1', key)\n",
    "    dic_time[ml_model] = val['train_time']"
   ]
  },
  {
   "cell_type": "code",
   "execution_count": 121,
   "metadata": {
    "scrolled": true
   },
   "outputs": [
    {
     "name": "stdout",
     "output_type": "stream",
     "text": [
      "Order of models: ('tree_xgboost', 'baseline', 'reg', 'tree_randomforest')\n"
     ]
    },
    {
     "data": {
      "image/png": "[encoded data removed]",
      "text/plain": [
       "<Figure size 576x144 with 1 Axes>"
      ]
     },
     "metadata": {
      "needs_background": "light"
     },
     "output_type": "display_data"
    }
   ],
   "source": [
    "plot_user_metric(dic_time, 'train time')"
   ]
  },
  {
   "cell_type": "markdown",
   "metadata": {},
   "source": [
    "#### Time comparison during prediction"
   ]
  },
  {
   "cell_type": "code",
   "execution_count": 122,
   "metadata": {},
   "outputs": [],
   "source": [
    "dic_pred = {}\n",
    "for key,val in ml_dict['standard'].items():\n",
    "    ml_model = re.sub('clf_.*_(.*)', r'\\1', key)\n",
    "    dic_pred[ml_model] = val['prediction_time']"
   ]
  },
  {
   "cell_type": "code",
   "execution_count": 123,
   "metadata": {},
   "outputs": [
    {
     "name": "stdout",
     "output_type": "stream",
     "text": [
      "Order of models: ('tree_xgboost', 'reg', 'baseline', 'tree_randomforest')\n"
     ]
    },
    {
     "data": {
      "image/png": "[encoded data removed]",
      "text/plain": [
       "<Figure size 576x144 with 1 Axes>"
      ]
     },
     "metadata": {
      "needs_background": "light"
     },
     "output_type": "display_data"
    }
   ],
   "source": [
    "plot_user_metric(dic_pred, 'prediction time')"
   ]
  },
  {
   "cell_type": "code",
   "execution_count": null,
   "metadata": {},
   "outputs": [],
   "source": []
  },
  {
   "cell_type": "code",
   "execution_count": null,
   "metadata": {},
   "outputs": [],
   "source": []
  }
 ],
 "metadata": {
  "kernelspec": {
   "display_name": "Python 3",
   "language": "python",
   "name": "python3"
  },
  "language_info": {
   "codemirror_mode": {
    "name": "ipython",
    "version": 3
   },
   "file_extension": ".py",
   "mimetype": "text/x-python",
   "name": "python",
   "nbconvert_exporter": "python",
   "pygments_lexer": "ipython3",
   "version": "3.7.5"
  }
 },
 "nbformat": 4,
 "nbformat_minor": 4
}
